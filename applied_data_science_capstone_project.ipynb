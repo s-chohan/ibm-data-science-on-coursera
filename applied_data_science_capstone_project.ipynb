{
 "cells": [
  {
   "cell_type": "markdown",
   "metadata": {},
   "source": [
    "# Applied Data Science Capstone"
   ]
  },
  {
   "cell_type": "markdown",
   "metadata": {},
   "source": [
    "## Selecting Neighbourhoods in Toronto for Establishing a New Coffee Shop"
   ]
  },
  {
   "cell_type": "markdown",
   "metadata": {},
   "source": [
    "### Introduction: Business Problem\n",
    "A business organization is considering to setup a new coffee shop in Toronto. This business organization is the audience of the data \n",
    "In this regard, it is desired to provide answers to the following questions:\n",
    "1.\tWhich neighbourhoods in Toronto have high business activity in terms of existing outlets and venues?\n",
    "2.\tIs coffee shop a viable business category in Toronto? Do enough coffee shops exist to prove existence of a coffee consumer market?\n",
    "3.\tWhat are popular business venues in Toronto? Are some coffee shops popular venues?\n",
    "4.\tWhich neighbourhoods in Toronto have highest and lowest number of coffee shops?\n",
    "5.\tWhich neighbourhoods in Toronto have high business activity and low competition from existing coffee shops? These neighbourhoods will be potential places or areas to be selected for establishing a new coffee shop.\n"
   ]
  },
  {
   "cell_type": "code",
   "execution_count": 1,
   "metadata": {},
   "outputs": [
    {
     "name": "stdout",
     "output_type": "stream",
     "text": [
      "Libraries imported.\n"
     ]
    }
   ],
   "source": [
    "# import libraries\n",
    "import requests\n",
    "from bs4 import BeautifulSoup\n",
    "import pandas as pd\n",
    "import numpy as np\n",
    "from pandas.io.json import json_normalize # tranform JSON file into a pandas dataframe\n",
    "import json\n",
    "\n",
    "# Matplotlib and associated plotting modules\n",
    "import matplotlib.pyplot as plt\n",
    "import matplotlib.cm as cm\n",
    "import matplotlib.colors as colors\n",
    "import seaborn as sns\n",
    "\n",
    "from geopy.geocoders import Nominatim\n",
    "import folium\n",
    "import geocoder # import geocoder\n",
    "\n",
    "print('Libraries imported.')"
   ]
  },
  {
   "cell_type": "code",
   "execution_count": 2,
   "metadata": {},
   "outputs": [],
   "source": [
    "# get text of the webpage\n",
    "website_url = 'https://en.wikipedia.org/wiki/List_of_postal_codes_of_Canada:_M' # store website address\n",
    "website_get = requests.get(website_url) # store response of the 'GET' http request\n",
    "website_text = website_get.text # store text received in response to the 'GET' response"
   ]
  },
  {
   "cell_type": "code",
   "execution_count": 3,
   "metadata": {},
   "outputs": [],
   "source": [
    "# store text of the webpage parsed through parser\n",
    "soup_text = BeautifulSoup(website_text, 'html.parser')\n",
    "#print(soup_text)"
   ]
  },
  {
   "cell_type": "code",
   "execution_count": 4,
   "metadata": {},
   "outputs": [],
   "source": [
    "# find table using class attributes\n",
    "data_table = soup_text.find('table', {'class':'wikitable sortable'})\n",
    "#data_table"
   ]
  },
  {
   "cell_type": "code",
   "execution_count": 5,
   "metadata": {},
   "outputs": [],
   "source": [
    "# find all rows in the table through 'tr' tag\n",
    "data_rows = data_table.find_all('tr')"
   ]
  },
  {
   "cell_type": "code",
   "execution_count": 6,
   "metadata": {},
   "outputs": [
    {
     "data": {
      "text/plain": [
       "[['Postcode', 'Borough', 'Neighbourhood'],\n",
       " ['M1A', 'Not assigned', 'Not assigned'],\n",
       " ['M2A', 'Not assigned', 'Not assigned'],\n",
       " ['M3A', 'North York', 'Parkwoods'],\n",
       " ['M4A', 'North York', 'Victoria Village']]"
      ]
     },
     "execution_count": 6,
     "metadata": {},
     "output_type": "execute_result"
    }
   ],
   "source": [
    "# create an empty list\n",
    "data_list = []\n",
    "\n",
    "# loop through all rows found in the table\n",
    "for data_row in data_rows:\n",
    "    # get text of each row\n",
    "    # split text on next line '\\n' character\n",
    "    # remove first and last empty items\n",
    "    row = data_row.text.split('\\n')[1:-1]\n",
    "    # append row as list to data_list\n",
    "    data_list.append(row)\n",
    "\n",
    "# display first five rows\n",
    "data_list[0:5]"
   ]
  },
  {
   "cell_type": "code",
   "execution_count": 7,
   "metadata": {},
   "outputs": [],
   "source": [
    "# obtain first row to later use as column headings\n",
    "data_head = data_list[0]"
   ]
  },
  {
   "cell_type": "code",
   "execution_count": 8,
   "metadata": {},
   "outputs": [],
   "source": [
    "# create data frame using all items from first item onwards; assign column names\n",
    "neighborhoods_df = pd.DataFrame(data=data_list[1:], columns=data_head)"
   ]
  },
  {
   "cell_type": "code",
   "execution_count": 9,
   "metadata": {},
   "outputs": [
    {
     "data": {
      "text/html": [
       "<div>\n",
       "<style scoped>\n",
       "    .dataframe tbody tr th:only-of-type {\n",
       "        vertical-align: middle;\n",
       "    }\n",
       "\n",
       "    .dataframe tbody tr th {\n",
       "        vertical-align: top;\n",
       "    }\n",
       "\n",
       "    .dataframe thead th {\n",
       "        text-align: right;\n",
       "    }\n",
       "</style>\n",
       "<table border=\"1\" class=\"dataframe\">\n",
       "  <thead>\n",
       "    <tr style=\"text-align: right;\">\n",
       "      <th></th>\n",
       "      <th>Postcode</th>\n",
       "      <th>Borough</th>\n",
       "      <th>Neighbourhood</th>\n",
       "    </tr>\n",
       "  </thead>\n",
       "  <tbody>\n",
       "    <tr>\n",
       "      <th>0</th>\n",
       "      <td>M1A</td>\n",
       "      <td>Not assigned</td>\n",
       "      <td>Not assigned</td>\n",
       "    </tr>\n",
       "    <tr>\n",
       "      <th>1</th>\n",
       "      <td>M2A</td>\n",
       "      <td>Not assigned</td>\n",
       "      <td>Not assigned</td>\n",
       "    </tr>\n",
       "    <tr>\n",
       "      <th>2</th>\n",
       "      <td>M3A</td>\n",
       "      <td>North York</td>\n",
       "      <td>Parkwoods</td>\n",
       "    </tr>\n",
       "  </tbody>\n",
       "</table>\n",
       "</div>"
      ],
      "text/plain": [
       "  Postcode       Borough Neighbourhood\n",
       "0      M1A  Not assigned  Not assigned\n",
       "1      M2A  Not assigned  Not assigned\n",
       "2      M3A    North York     Parkwoods"
      ]
     },
     "execution_count": 9,
     "metadata": {},
     "output_type": "execute_result"
    }
   ],
   "source": [
    "# display head (first five rows) of the data frame\n",
    "neighborhoods_df.head(3)"
   ]
  },
  {
   "cell_type": "code",
   "execution_count": 10,
   "metadata": {},
   "outputs": [
    {
     "data": {
      "text/plain": [
       "(287, 3)"
      ]
     },
     "execution_count": 10,
     "metadata": {},
     "output_type": "execute_result"
    }
   ],
   "source": [
    "# display shape of the data frame\n",
    "neighborhoods_df.shape"
   ]
  },
  {
   "cell_type": "code",
   "execution_count": 11,
   "metadata": {},
   "outputs": [],
   "source": [
    "# get index of rows in data frame where 'Borough' column is 'Not Assigned'\n",
    "neighborhoods_borough_not_assigned_index = neighborhoods_df.index[neighborhoods_df['Borough'] == 'Not assigned']"
   ]
  },
  {
   "cell_type": "code",
   "execution_count": 12,
   "metadata": {},
   "outputs": [
    {
     "data": {
      "text/plain": [
       "(77,)"
      ]
     },
     "execution_count": 12,
     "metadata": {},
     "output_type": "execute_result"
    }
   ],
   "source": [
    "neighborhoods_borough_not_assigned_index.shape"
   ]
  },
  {
   "cell_type": "code",
   "execution_count": 13,
   "metadata": {},
   "outputs": [],
   "source": [
    "#neighborhoods_df.drop(neighborhoods_borough_not_assigned_index, axis = 'index', inplace = True)\n",
    "neighborhoods_df.drop(index = neighborhoods_borough_not_assigned_index, inplace = True)"
   ]
  },
  {
   "cell_type": "code",
   "execution_count": 14,
   "metadata": {},
   "outputs": [
    {
     "data": {
      "text/plain": [
       "(210, 3)"
      ]
     },
     "execution_count": 14,
     "metadata": {},
     "output_type": "execute_result"
    }
   ],
   "source": [
    "# display shape of the data frame\n",
    "neighborhoods_df.shape"
   ]
  },
  {
   "cell_type": "code",
   "execution_count": 15,
   "metadata": {},
   "outputs": [],
   "source": [
    "# group data frame using 'Postcode' and 'Borough' columns\n",
    "# join 'Neighbourhood' values using comma\n",
    "neighborhoods_df = pd.DataFrame(neighborhoods_df.groupby(['Postcode', 'Borough'])['Neighbourhood'].apply( ', '.join))"
   ]
  },
  {
   "cell_type": "code",
   "execution_count": 16,
   "metadata": {},
   "outputs": [],
   "source": [
    "# reset index of grouped data frame\n",
    "neighborhoods_df.reset_index(inplace = True)"
   ]
  },
  {
   "cell_type": "code",
   "execution_count": 17,
   "metadata": {},
   "outputs": [
    {
     "data": {
      "text/html": [
       "<div>\n",
       "<style scoped>\n",
       "    .dataframe tbody tr th:only-of-type {\n",
       "        vertical-align: middle;\n",
       "    }\n",
       "\n",
       "    .dataframe tbody tr th {\n",
       "        vertical-align: top;\n",
       "    }\n",
       "\n",
       "    .dataframe thead th {\n",
       "        text-align: right;\n",
       "    }\n",
       "</style>\n",
       "<table border=\"1\" class=\"dataframe\">\n",
       "  <thead>\n",
       "    <tr style=\"text-align: right;\">\n",
       "      <th></th>\n",
       "      <th>Postcode</th>\n",
       "      <th>Borough</th>\n",
       "      <th>Neighbourhood</th>\n",
       "    </tr>\n",
       "  </thead>\n",
       "  <tbody>\n",
       "    <tr>\n",
       "      <th>0</th>\n",
       "      <td>M1B</td>\n",
       "      <td>Scarborough</td>\n",
       "      <td>Rouge, Malvern</td>\n",
       "    </tr>\n",
       "    <tr>\n",
       "      <th>1</th>\n",
       "      <td>M1C</td>\n",
       "      <td>Scarborough</td>\n",
       "      <td>Highland Creek, Rouge Hill, Port Union</td>\n",
       "    </tr>\n",
       "    <tr>\n",
       "      <th>2</th>\n",
       "      <td>M1E</td>\n",
       "      <td>Scarborough</td>\n",
       "      <td>Guildwood, Morningside, West Hill</td>\n",
       "    </tr>\n",
       "  </tbody>\n",
       "</table>\n",
       "</div>"
      ],
      "text/plain": [
       "  Postcode      Borough                           Neighbourhood\n",
       "0      M1B  Scarborough                          Rouge, Malvern\n",
       "1      M1C  Scarborough  Highland Creek, Rouge Hill, Port Union\n",
       "2      M1E  Scarborough       Guildwood, Morningside, West Hill"
      ]
     },
     "execution_count": 17,
     "metadata": {},
     "output_type": "execute_result"
    }
   ],
   "source": [
    "# display head of the grouped data frame\n",
    "neighborhoods_df.head(3)"
   ]
  },
  {
   "cell_type": "code",
   "execution_count": 18,
   "metadata": {},
   "outputs": [
    {
     "data": {
      "text/plain": [
       "(103, 3)"
      ]
     },
     "execution_count": 18,
     "metadata": {},
     "output_type": "execute_result"
    }
   ],
   "source": [
    "neighborhoods_df.shape"
   ]
  },
  {
   "cell_type": "markdown",
   "metadata": {},
   "source": [
    "Get the geographical coordinates of the neighborhoods"
   ]
  },
  {
   "cell_type": "markdown",
   "metadata": {},
   "source": [
    "Given that this package can be very unreliable, in case you are not able to get the geographical coordinates of the neighborhoods using the Geocoder package, here is a link to a csv file that has the geographical coordinates of each postal code: http://cocl.us/Geospatial_data"
   ]
  },
  {
   "cell_type": "code",
   "execution_count": 19,
   "metadata": {},
   "outputs": [],
   "source": [
    "geo_coordinates_df = pd.read_csv('https://cocl.us/Geospatial_data')"
   ]
  },
  {
   "cell_type": "code",
   "execution_count": 20,
   "metadata": {},
   "outputs": [
    {
     "data": {
      "text/html": [
       "<div>\n",
       "<style scoped>\n",
       "    .dataframe tbody tr th:only-of-type {\n",
       "        vertical-align: middle;\n",
       "    }\n",
       "\n",
       "    .dataframe tbody tr th {\n",
       "        vertical-align: top;\n",
       "    }\n",
       "\n",
       "    .dataframe thead th {\n",
       "        text-align: right;\n",
       "    }\n",
       "</style>\n",
       "<table border=\"1\" class=\"dataframe\">\n",
       "  <thead>\n",
       "    <tr style=\"text-align: right;\">\n",
       "      <th></th>\n",
       "      <th>Postal Code</th>\n",
       "      <th>Latitude</th>\n",
       "      <th>Longitude</th>\n",
       "    </tr>\n",
       "  </thead>\n",
       "  <tbody>\n",
       "    <tr>\n",
       "      <th>0</th>\n",
       "      <td>M1B</td>\n",
       "      <td>43.806686</td>\n",
       "      <td>-79.194353</td>\n",
       "    </tr>\n",
       "    <tr>\n",
       "      <th>1</th>\n",
       "      <td>M1C</td>\n",
       "      <td>43.784535</td>\n",
       "      <td>-79.160497</td>\n",
       "    </tr>\n",
       "    <tr>\n",
       "      <th>2</th>\n",
       "      <td>M1E</td>\n",
       "      <td>43.763573</td>\n",
       "      <td>-79.188711</td>\n",
       "    </tr>\n",
       "  </tbody>\n",
       "</table>\n",
       "</div>"
      ],
      "text/plain": [
       "  Postal Code   Latitude  Longitude\n",
       "0         M1B  43.806686 -79.194353\n",
       "1         M1C  43.784535 -79.160497\n",
       "2         M1E  43.763573 -79.188711"
      ]
     },
     "execution_count": 20,
     "metadata": {},
     "output_type": "execute_result"
    }
   ],
   "source": [
    "geo_coordinates_df.head(3)"
   ]
  },
  {
   "cell_type": "code",
   "execution_count": 21,
   "metadata": {},
   "outputs": [
    {
     "data": {
      "text/plain": [
       "(103, 3)"
      ]
     },
     "execution_count": 21,
     "metadata": {},
     "output_type": "execute_result"
    }
   ],
   "source": [
    "geo_coordinates_df.shape"
   ]
  },
  {
   "cell_type": "code",
   "execution_count": 22,
   "metadata": {},
   "outputs": [],
   "source": [
    "neighborhoods_coord_df = neighborhoods_df.merge(geo_coordinates_df, how='left', left_on='Postcode', right_on='Postal Code')"
   ]
  },
  {
   "cell_type": "code",
   "execution_count": 23,
   "metadata": {},
   "outputs": [
    {
     "data": {
      "text/html": [
       "<div>\n",
       "<style scoped>\n",
       "    .dataframe tbody tr th:only-of-type {\n",
       "        vertical-align: middle;\n",
       "    }\n",
       "\n",
       "    .dataframe tbody tr th {\n",
       "        vertical-align: top;\n",
       "    }\n",
       "\n",
       "    .dataframe thead th {\n",
       "        text-align: right;\n",
       "    }\n",
       "</style>\n",
       "<table border=\"1\" class=\"dataframe\">\n",
       "  <thead>\n",
       "    <tr style=\"text-align: right;\">\n",
       "      <th></th>\n",
       "      <th>Postcode</th>\n",
       "      <th>Borough</th>\n",
       "      <th>Neighbourhood</th>\n",
       "      <th>Postal Code</th>\n",
       "      <th>Latitude</th>\n",
       "      <th>Longitude</th>\n",
       "    </tr>\n",
       "  </thead>\n",
       "  <tbody>\n",
       "    <tr>\n",
       "      <th>0</th>\n",
       "      <td>M1B</td>\n",
       "      <td>Scarborough</td>\n",
       "      <td>Rouge, Malvern</td>\n",
       "      <td>M1B</td>\n",
       "      <td>43.806686</td>\n",
       "      <td>-79.194353</td>\n",
       "    </tr>\n",
       "    <tr>\n",
       "      <th>1</th>\n",
       "      <td>M1C</td>\n",
       "      <td>Scarborough</td>\n",
       "      <td>Highland Creek, Rouge Hill, Port Union</td>\n",
       "      <td>M1C</td>\n",
       "      <td>43.784535</td>\n",
       "      <td>-79.160497</td>\n",
       "    </tr>\n",
       "    <tr>\n",
       "      <th>2</th>\n",
       "      <td>M1E</td>\n",
       "      <td>Scarborough</td>\n",
       "      <td>Guildwood, Morningside, West Hill</td>\n",
       "      <td>M1E</td>\n",
       "      <td>43.763573</td>\n",
       "      <td>-79.188711</td>\n",
       "    </tr>\n",
       "  </tbody>\n",
       "</table>\n",
       "</div>"
      ],
      "text/plain": [
       "  Postcode      Borough                           Neighbourhood Postal Code  \\\n",
       "0      M1B  Scarborough                          Rouge, Malvern         M1B   \n",
       "1      M1C  Scarborough  Highland Creek, Rouge Hill, Port Union         M1C   \n",
       "2      M1E  Scarborough       Guildwood, Morningside, West Hill         M1E   \n",
       "\n",
       "    Latitude  Longitude  \n",
       "0  43.806686 -79.194353  \n",
       "1  43.784535 -79.160497  \n",
       "2  43.763573 -79.188711  "
      ]
     },
     "execution_count": 23,
     "metadata": {},
     "output_type": "execute_result"
    }
   ],
   "source": [
    "neighborhoods_coord_df.head(3)"
   ]
  },
  {
   "cell_type": "code",
   "execution_count": 24,
   "metadata": {},
   "outputs": [],
   "source": [
    "neighborhoods_coord_df = neighborhoods_coord_df.drop(columns='Postal Code')"
   ]
  },
  {
   "cell_type": "code",
   "execution_count": 25,
   "metadata": {},
   "outputs": [
    {
     "data": {
      "text/html": [
       "<div>\n",
       "<style scoped>\n",
       "    .dataframe tbody tr th:only-of-type {\n",
       "        vertical-align: middle;\n",
       "    }\n",
       "\n",
       "    .dataframe tbody tr th {\n",
       "        vertical-align: top;\n",
       "    }\n",
       "\n",
       "    .dataframe thead th {\n",
       "        text-align: right;\n",
       "    }\n",
       "</style>\n",
       "<table border=\"1\" class=\"dataframe\">\n",
       "  <thead>\n",
       "    <tr style=\"text-align: right;\">\n",
       "      <th></th>\n",
       "      <th>Postcode</th>\n",
       "      <th>Borough</th>\n",
       "      <th>Neighbourhood</th>\n",
       "      <th>Latitude</th>\n",
       "      <th>Longitude</th>\n",
       "    </tr>\n",
       "  </thead>\n",
       "  <tbody>\n",
       "    <tr>\n",
       "      <th>0</th>\n",
       "      <td>M1B</td>\n",
       "      <td>Scarborough</td>\n",
       "      <td>Rouge, Malvern</td>\n",
       "      <td>43.806686</td>\n",
       "      <td>-79.194353</td>\n",
       "    </tr>\n",
       "    <tr>\n",
       "      <th>1</th>\n",
       "      <td>M1C</td>\n",
       "      <td>Scarborough</td>\n",
       "      <td>Highland Creek, Rouge Hill, Port Union</td>\n",
       "      <td>43.784535</td>\n",
       "      <td>-79.160497</td>\n",
       "    </tr>\n",
       "    <tr>\n",
       "      <th>2</th>\n",
       "      <td>M1E</td>\n",
       "      <td>Scarborough</td>\n",
       "      <td>Guildwood, Morningside, West Hill</td>\n",
       "      <td>43.763573</td>\n",
       "      <td>-79.188711</td>\n",
       "    </tr>\n",
       "  </tbody>\n",
       "</table>\n",
       "</div>"
      ],
      "text/plain": [
       "  Postcode      Borough                           Neighbourhood   Latitude  \\\n",
       "0      M1B  Scarborough                          Rouge, Malvern  43.806686   \n",
       "1      M1C  Scarborough  Highland Creek, Rouge Hill, Port Union  43.784535   \n",
       "2      M1E  Scarborough       Guildwood, Morningside, West Hill  43.763573   \n",
       "\n",
       "   Longitude  \n",
       "0 -79.194353  \n",
       "1 -79.160497  \n",
       "2 -79.188711  "
      ]
     },
     "execution_count": 25,
     "metadata": {},
     "output_type": "execute_result"
    }
   ],
   "source": [
    "neighborhoods_coord_df.to_csv('neighborhoods_coord_df.csv', index=False)\n",
    "neighborhoods_coord_df.head(3)"
   ]
  },
  {
   "cell_type": "code",
   "execution_count": 26,
   "metadata": {},
   "outputs": [
    {
     "data": {
      "text/plain": [
       "(103, 5)"
      ]
     },
     "execution_count": 26,
     "metadata": {},
     "output_type": "execute_result"
    }
   ],
   "source": [
    "neighborhoods_coord_df.shape"
   ]
  },
  {
   "cell_type": "markdown",
   "metadata": {},
   "source": [
    "Display the map"
   ]
  },
  {
   "cell_type": "raw",
   "metadata": {},
   "source": [
    "# as suggested on Coursera\n",
    "\n",
    "address = 'Toronto, ON, Canada'\n",
    "\n",
    "# initialize your variable to None\n",
    "lat_lng_coords = None\n",
    "\n",
    "# loop until you get the coordinates\n",
    "while(lat_lng_coords is None):\n",
    "    g = geocoder.google(address)\n",
    "    lat_lng_coords = g.latlng\n",
    "\n",
    "latitude = lat_lng_coords[0]\n",
    "longitude = lat_lng_coords[1]"
   ]
  },
  {
   "cell_type": "code",
   "execution_count": 27,
   "metadata": {},
   "outputs": [
    {
     "name": "stdout",
     "output_type": "stream",
     "text": [
      "The geograpical coordinate of Toronto are 43.653963, -79.387207.\n"
     ]
    }
   ],
   "source": [
    "address = 'Toronto, ON, Canada'\n",
    "geolocator = Nominatim(user_agent=\"my_explorer\")\n",
    "\n",
    "location = geolocator.geocode(address)\n",
    "\n",
    "latitude = location.latitude\n",
    "longitude = location.longitude\n",
    "print('The geograpical coordinate of Toronto are {}, {}.'.format(latitude, longitude))"
   ]
  },
  {
   "cell_type": "code",
   "execution_count": 28,
   "metadata": {},
   "outputs": [],
   "source": [
    "# latitude and longitude input manually since the geolocator service is timing out\n",
    "latitude = 43.653963\n",
    "longitude = -79.387207"
   ]
  },
  {
   "cell_type": "code",
   "execution_count": 29,
   "metadata": {},
   "outputs": [
    {
     "data": {
      "text/html": [
       "<div style=\"width:100%;\"><div style=\"position:relative;width:100%;height:0;padding-bottom:60%;\"><iframe src=\"data:text/html;charset=utf-8;base64,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\" style=\"position:absolute;width:100%;height:100%;left:0;top:0;border:none !important;\" allowfullscreen webkitallowfullscreen mozallowfullscreen></iframe></div></div>"
      ],
      "text/plain": [
       "<folium.folium.Map at 0x22fe5065b70>"
      ]
     },
     "execution_count": 29,
     "metadata": {},
     "output_type": "execute_result"
    }
   ],
   "source": [
    "map_toronto = folium.Map(location=[latitude, longitude], zoom_start=11)\n",
    "\n",
    "# add markers to map\n",
    "for lat, lng, label in zip(neighborhoods_coord_df['Latitude'], neighborhoods_coord_df['Longitude'], neighborhoods_coord_df['Neighbourhood']):\n",
    "    label = folium.Popup(label, parse_html=True)\n",
    "    folium.Marker(\n",
    "        [lat, lng],\n",
    "        radius=5,\n",
    "        popup=label,\n",
    "        color='blue',\n",
    "        fill=True,\n",
    "        fill_color='#3186cc',\n",
    "        fill_opacity=0.7,\n",
    "        parse_html=False).add_to(map_toronto)  \n",
    "\n",
    "map_toronto"
   ]
  },
  {
   "cell_type": "markdown",
   "metadata": {},
   "source": [
    "#### Define Foursquare Credentials and Version"
   ]
  },
  {
   "cell_type": "code",
   "execution_count": 30,
   "metadata": {},
   "outputs": [],
   "source": [
    "CLIENT_ID = '######################################' # your Foursquare ID\n",
    "CLIENT_SECRET = '########################################' # your Foursquare Secret\n",
    "VERSION = '20180605' # Foursquare API version"
   ]
  },
  {
   "cell_type": "markdown",
   "metadata": {},
   "source": [
    "#### Let's explore the first neighborhood in our dataframe."
   ]
  },
  {
   "cell_type": "markdown",
   "metadata": {},
   "source": [
    "Get the neighborhood's name."
   ]
  },
  {
   "cell_type": "code",
   "execution_count": 31,
   "metadata": {},
   "outputs": [
    {
     "data": {
      "text/plain": [
       "'Rouge, Malvern'"
      ]
     },
     "execution_count": 31,
     "metadata": {},
     "output_type": "execute_result"
    }
   ],
   "source": [
    "neighborhoods_coord_df.loc[0, 'Neighbourhood']"
   ]
  },
  {
   "cell_type": "markdown",
   "metadata": {},
   "source": [
    "Get the neighborhood's latitude and longitude values."
   ]
  },
  {
   "cell_type": "code",
   "execution_count": 32,
   "metadata": {},
   "outputs": [
    {
     "name": "stdout",
     "output_type": "stream",
     "text": [
      "Latitude and longitude values of Rouge, Malvern are 43.806686299999996, -79.19435340000001.\n"
     ]
    }
   ],
   "source": [
    "neighborhood_latitude = neighborhoods_coord_df.loc[0, 'Latitude'] # neighborhood latitude value\n",
    "neighborhood_longitude = neighborhoods_coord_df.loc[0, 'Longitude'] # neighborhood longitude value\n",
    "\n",
    "neighborhood_name = neighborhoods_coord_df.loc[0, 'Neighbourhood'] # neighborhood name\n",
    "\n",
    "print('Latitude and longitude values of {} are {}, {}.'.format(neighborhood_name, \n",
    "                                                               neighborhood_latitude, \n",
    "                                                               neighborhood_longitude))"
   ]
  },
  {
   "cell_type": "markdown",
   "metadata": {},
   "source": [
    "#### Now, let's get the top 100 venues that are in Rouge, Malvern within a radius of 1000 meters."
   ]
  },
  {
   "cell_type": "markdown",
   "metadata": {},
   "source": [
    "First, let's create the GET request URL. Name your URL **url**."
   ]
  },
  {
   "cell_type": "code",
   "execution_count": 33,
   "metadata": {},
   "outputs": [],
   "source": [
    "LIMIT = 100 # limit of number of venues returned by Foursquare API\n",
    "radius = 1000 # define radius"
   ]
  },
  {
   "cell_type": "code",
   "execution_count": 34,
   "metadata": {},
   "outputs": [
    {
     "data": {
      "text/plain": [
       "'https://api.foursquare.com/v2/venues/explore?&client_id=##############################&client_secret=##########################################&v=20180605&ll=43.806686299999996,-79.19435340000001&radius=1000&limit=100'"
      ]
     },
     "execution_count": 34,
     "metadata": {},
     "output_type": "execute_result"
    }
   ],
   "source": [
    "# create URL\n",
    "url = 'https://api.foursquare.com/v2/venues/explore?&client_id={}&client_secret={}&v={}&ll={},{}&radius={}&limit={}'.format(\n",
    "    CLIENT_ID, \n",
    "    CLIENT_SECRET, \n",
    "    VERSION, \n",
    "    neighborhood_latitude, \n",
    "    neighborhood_longitude, \n",
    "    radius, \n",
    "    LIMIT)\n",
    "url # display URL"
   ]
  },
  {
   "cell_type": "markdown",
   "metadata": {},
   "source": [
    "Send the GET request and examine the resutls"
   ]
  },
  {
   "cell_type": "code",
   "execution_count": 35,
   "metadata": {},
   "outputs": [],
   "source": [
    "results = requests.get(url).json()\n",
    "# results"
   ]
  },
  {
   "cell_type": "markdown",
   "metadata": {},
   "source": [
    "We know that all the information is in the *items* key. Before we proceed, let's borrow the **get_category_type** function from the Foursquare lab."
   ]
  },
  {
   "cell_type": "code",
   "execution_count": 36,
   "metadata": {},
   "outputs": [],
   "source": [
    "# function that extracts the category of the venue\n",
    "def get_category_type(row):\n",
    "    try:\n",
    "        categories_list = row['categories']\n",
    "    except:\n",
    "        categories_list = row['venue.categories']\n",
    "        \n",
    "    if len(categories_list) == 0:\n",
    "        return None\n",
    "    else:\n",
    "        return categories_list[0]['name']"
   ]
  },
  {
   "cell_type": "markdown",
   "metadata": {},
   "source": [
    "Now we are ready to clean the json and structure it into a *pandas* dataframe."
   ]
  },
  {
   "cell_type": "code",
   "execution_count": 37,
   "metadata": {},
   "outputs": [
    {
     "data": {
      "text/html": [
       "<div>\n",
       "<style scoped>\n",
       "    .dataframe tbody tr th:only-of-type {\n",
       "        vertical-align: middle;\n",
       "    }\n",
       "\n",
       "    .dataframe tbody tr th {\n",
       "        vertical-align: top;\n",
       "    }\n",
       "\n",
       "    .dataframe thead th {\n",
       "        text-align: right;\n",
       "    }\n",
       "</style>\n",
       "<table border=\"1\" class=\"dataframe\">\n",
       "  <thead>\n",
       "    <tr style=\"text-align: right;\">\n",
       "      <th></th>\n",
       "      <th>name</th>\n",
       "      <th>categories</th>\n",
       "      <th>lat</th>\n",
       "      <th>lng</th>\n",
       "    </tr>\n",
       "  </thead>\n",
       "  <tbody>\n",
       "    <tr>\n",
       "      <th>0</th>\n",
       "      <td>Wendy's</td>\n",
       "      <td>Fast Food Restaurant</td>\n",
       "      <td>43.802008</td>\n",
       "      <td>-79.198080</td>\n",
       "    </tr>\n",
       "    <tr>\n",
       "      <th>1</th>\n",
       "      <td>Wendy's</td>\n",
       "      <td>Fast Food Restaurant</td>\n",
       "      <td>43.807448</td>\n",
       "      <td>-79.199056</td>\n",
       "    </tr>\n",
       "    <tr>\n",
       "      <th>2</th>\n",
       "      <td>Caribbean Wave</td>\n",
       "      <td>Caribbean Restaurant</td>\n",
       "      <td>43.798558</td>\n",
       "      <td>-79.195777</td>\n",
       "    </tr>\n",
       "    <tr>\n",
       "      <th>3</th>\n",
       "      <td>Staples Morningside</td>\n",
       "      <td>Paper / Office Supplies Store</td>\n",
       "      <td>43.800285</td>\n",
       "      <td>-79.196607</td>\n",
       "    </tr>\n",
       "    <tr>\n",
       "      <th>4</th>\n",
       "      <td>Tim Hortons</td>\n",
       "      <td>Coffee Shop</td>\n",
       "      <td>43.802000</td>\n",
       "      <td>-79.198169</td>\n",
       "    </tr>\n",
       "  </tbody>\n",
       "</table>\n",
       "</div>"
      ],
      "text/plain": [
       "                  name                     categories        lat        lng\n",
       "0              Wendy's           Fast Food Restaurant  43.802008 -79.198080\n",
       "1              Wendy's           Fast Food Restaurant  43.807448 -79.199056\n",
       "2       Caribbean Wave           Caribbean Restaurant  43.798558 -79.195777\n",
       "3  Staples Morningside  Paper / Office Supplies Store  43.800285 -79.196607\n",
       "4          Tim Hortons                    Coffee Shop  43.802000 -79.198169"
      ]
     },
     "execution_count": 37,
     "metadata": {},
     "output_type": "execute_result"
    }
   ],
   "source": [
    "venues = results['response']['groups'][0]['items']\n",
    "    \n",
    "nearby_venues = json_normalize(venues) # flatten JSON\n",
    "\n",
    "# filter columns\n",
    "filtered_columns = ['venue.name', 'venue.categories', 'venue.location.lat', 'venue.location.lng']\n",
    "nearby_venues =nearby_venues.loc[:, filtered_columns]\n",
    "\n",
    "# filter the category for each row\n",
    "nearby_venues['venue.categories'] = nearby_venues.apply(get_category_type, axis=1)\n",
    "\n",
    "# clean columns\n",
    "nearby_venues.columns = [col.split(\".\")[-1] for col in nearby_venues.columns]\n",
    "\n",
    "nearby_venues.head()"
   ]
  },
  {
   "cell_type": "markdown",
   "metadata": {},
   "source": [
    "And how many venues were returned by Foursquare?"
   ]
  },
  {
   "cell_type": "code",
   "execution_count": 38,
   "metadata": {},
   "outputs": [
    {
     "name": "stdout",
     "output_type": "stream",
     "text": [
      "17 venues were returned by Foursquare.\n"
     ]
    }
   ],
   "source": [
    "print('{} venues were returned by Foursquare.'.format(nearby_venues.shape[0]))"
   ]
  },
  {
   "cell_type": "markdown",
   "metadata": {},
   "source": [
    "## Explore Neighborhoods in Toronto"
   ]
  },
  {
   "cell_type": "markdown",
   "metadata": {},
   "source": [
    "#### Let's create a function to repeat the same process to all the neighborhoods in Toronto"
   ]
  },
  {
   "cell_type": "code",
   "execution_count": 39,
   "metadata": {},
   "outputs": [],
   "source": [
    "def getNearbyVenues(names, latitudes, longitudes, radius=500):\n",
    "    \n",
    "    venues_list=[]\n",
    "    for name, lat, lng in zip(names, latitudes, longitudes):\n",
    "        # print(name)\n",
    "            \n",
    "        # create the API request URL\n",
    "        url = 'https://api.foursquare.com/v2/venues/explore?&client_id={}&client_secret={}&v={}&ll={},{}&radius={}&limit={}'.format(\n",
    "            CLIENT_ID, \n",
    "            CLIENT_SECRET, \n",
    "            VERSION, \n",
    "            lat, \n",
    "            lng, \n",
    "            radius, \n",
    "            LIMIT)\n",
    "            \n",
    "        # make the GET request\n",
    "        results = requests.get(url).json()[\"response\"]['groups'][0]['items']\n",
    "        \n",
    "        # return only relevant information for each nearby venue\n",
    "        venues_list.append([(\n",
    "            name, \n",
    "            lat, \n",
    "            lng, \n",
    "            v['venue']['name'], \n",
    "            v['venue']['location']['lat'], \n",
    "            v['venue']['location']['lng'],  \n",
    "            v['venue']['categories'][0]['name']) for v in results])\n",
    "\n",
    "    nearby_venues = pd.DataFrame([item for venue_list in venues_list for item in venue_list])\n",
    "    nearby_venues.columns = ['Neighbourhood', \n",
    "                  'Neighborhood Latitude', \n",
    "                  'Neighborhood Longitude', \n",
    "                  'Venue', \n",
    "                  'Venue Latitude', \n",
    "                  'Venue Longitude', \n",
    "                  'Venue Category']\n",
    "    \n",
    "    return(nearby_venues)\n"
   ]
  },
  {
   "cell_type": "markdown",
   "metadata": {},
   "source": [
    "#### Now write the code to run the above function on each neighborhood and create a new dataframe called *toronto_venues*."
   ]
  },
  {
   "cell_type": "code",
   "execution_count": 489,
   "metadata": {},
   "outputs": [
    {
     "name": "stdout",
     "output_type": "stream",
     "text": [
      "2213 venues have been downloaded and saved.\n"
     ]
    }
   ],
   "source": [
    "toronto_venues = getNearbyVenues(names=neighborhoods_coord_df['Neighbourhood'],\n",
    "                                   latitudes=neighborhoods_coord_df['Latitude'],\n",
    "                                   longitudes=neighborhoods_coord_df['Longitude']\n",
    "                                  )\n",
    "\n",
    "toronto_venues.to_csv(\"toronto_venues.csv\", index=False)\n",
    "print ('{} venues have been downloaded and saved.'.format(toronto_venues.shape[0]))"
   ]
  },
  {
   "cell_type": "markdown",
   "metadata": {},
   "source": [
    "#### Let's check the size of the resulting dataframe"
   ]
  },
  {
   "cell_type": "code",
   "execution_count": 40,
   "metadata": {},
   "outputs": [
    {
     "name": "stdout",
     "output_type": "stream",
     "text": [
      "2213 venues have been imported.\n"
     ]
    }
   ],
   "source": [
    "toronto_venues = pd.read_csv('toronto_venues.csv')\n",
    "print ('{} venues have been imported.'.format(toronto_venues.shape[0]))"
   ]
  },
  {
   "cell_type": "code",
   "execution_count": 41,
   "metadata": {},
   "outputs": [
    {
     "name": "stdout",
     "output_type": "stream",
     "text": [
      "(2213, 7)\n"
     ]
    },
    {
     "data": {
      "text/html": [
       "<div>\n",
       "<style scoped>\n",
       "    .dataframe tbody tr th:only-of-type {\n",
       "        vertical-align: middle;\n",
       "    }\n",
       "\n",
       "    .dataframe tbody tr th {\n",
       "        vertical-align: top;\n",
       "    }\n",
       "\n",
       "    .dataframe thead th {\n",
       "        text-align: right;\n",
       "    }\n",
       "</style>\n",
       "<table border=\"1\" class=\"dataframe\">\n",
       "  <thead>\n",
       "    <tr style=\"text-align: right;\">\n",
       "      <th></th>\n",
       "      <th>Neighbourhood</th>\n",
       "      <th>Neighborhood Latitude</th>\n",
       "      <th>Neighborhood Longitude</th>\n",
       "      <th>Venue</th>\n",
       "      <th>Venue Latitude</th>\n",
       "      <th>Venue Longitude</th>\n",
       "      <th>Venue Category</th>\n",
       "    </tr>\n",
       "  </thead>\n",
       "  <tbody>\n",
       "    <tr>\n",
       "      <th>0</th>\n",
       "      <td>Rouge, Malvern</td>\n",
       "      <td>43.806686</td>\n",
       "      <td>-79.194353</td>\n",
       "      <td>Wendy's</td>\n",
       "      <td>43.807448</td>\n",
       "      <td>-79.199056</td>\n",
       "      <td>Fast Food Restaurant</td>\n",
       "    </tr>\n",
       "    <tr>\n",
       "      <th>1</th>\n",
       "      <td>Rouge, Malvern</td>\n",
       "      <td>43.806686</td>\n",
       "      <td>-79.194353</td>\n",
       "      <td>Interprovincial Group</td>\n",
       "      <td>43.805630</td>\n",
       "      <td>-79.200378</td>\n",
       "      <td>Print Shop</td>\n",
       "    </tr>\n",
       "    <tr>\n",
       "      <th>2</th>\n",
       "      <td>Highland Creek, Rouge Hill, Port Union</td>\n",
       "      <td>43.784535</td>\n",
       "      <td>-79.160497</td>\n",
       "      <td>Chris Effects Painting</td>\n",
       "      <td>43.784343</td>\n",
       "      <td>-79.163742</td>\n",
       "      <td>Construction &amp; Landscaping</td>\n",
       "    </tr>\n",
       "    <tr>\n",
       "      <th>3</th>\n",
       "      <td>Highland Creek, Rouge Hill, Port Union</td>\n",
       "      <td>43.784535</td>\n",
       "      <td>-79.160497</td>\n",
       "      <td>Royal Canadian Legion</td>\n",
       "      <td>43.782533</td>\n",
       "      <td>-79.163085</td>\n",
       "      <td>Bar</td>\n",
       "    </tr>\n",
       "    <tr>\n",
       "      <th>4</th>\n",
       "      <td>Highland Creek, Rouge Hill, Port Union</td>\n",
       "      <td>43.784535</td>\n",
       "      <td>-79.160497</td>\n",
       "      <td>Affordable Toronto Movers</td>\n",
       "      <td>43.787919</td>\n",
       "      <td>-79.162977</td>\n",
       "      <td>Moving Target</td>\n",
       "    </tr>\n",
       "  </tbody>\n",
       "</table>\n",
       "</div>"
      ],
      "text/plain": [
       "                            Neighbourhood  Neighborhood Latitude  \\\n",
       "0                          Rouge, Malvern              43.806686   \n",
       "1                          Rouge, Malvern              43.806686   \n",
       "2  Highland Creek, Rouge Hill, Port Union              43.784535   \n",
       "3  Highland Creek, Rouge Hill, Port Union              43.784535   \n",
       "4  Highland Creek, Rouge Hill, Port Union              43.784535   \n",
       "\n",
       "   Neighborhood Longitude                      Venue  Venue Latitude  \\\n",
       "0              -79.194353                    Wendy's       43.807448   \n",
       "1              -79.194353      Interprovincial Group       43.805630   \n",
       "2              -79.160497     Chris Effects Painting       43.784343   \n",
       "3              -79.160497      Royal Canadian Legion       43.782533   \n",
       "4              -79.160497  Affordable Toronto Movers       43.787919   \n",
       "\n",
       "   Venue Longitude              Venue Category  \n",
       "0       -79.199056        Fast Food Restaurant  \n",
       "1       -79.200378                  Print Shop  \n",
       "2       -79.163742  Construction & Landscaping  \n",
       "3       -79.163085                         Bar  \n",
       "4       -79.162977               Moving Target  "
      ]
     },
     "execution_count": 41,
     "metadata": {},
     "output_type": "execute_result"
    }
   ],
   "source": [
    "print(toronto_venues.shape)\n",
    "toronto_venues.head()"
   ]
  },
  {
   "cell_type": "markdown",
   "metadata": {},
   "source": [
    "## Popular Neighborhoods in Toronto"
   ]
  },
  {
   "cell_type": "markdown",
   "metadata": {},
   "source": [
    "#### Let us summarize the data for number of venues in each neighbourhoods"
   ]
  },
  {
   "cell_type": "markdown",
   "metadata": {},
   "source": [
    "We shall count the number of neighbourhoods in the sample, reset index and then rename columns."
   ]
  },
  {
   "cell_type": "code",
   "execution_count": 42,
   "metadata": {},
   "outputs": [],
   "source": [
    "toronto_venues_neigh = toronto_venues['Neighbourhood'].value_counts().to_frame()\n",
    "toronto_venues_neigh.reset_index(inplace=True)\n",
    "toronto_venues_neigh.rename({'index':'Neighbourhood', 'Neighbourhood':'Number of Venues'}, axis='columns', inplace=True)"
   ]
  },
  {
   "cell_type": "code",
   "execution_count": 43,
   "metadata": {},
   "outputs": [
    {
     "data": {
      "text/html": [
       "<div>\n",
       "<style scoped>\n",
       "    .dataframe tbody tr th:only-of-type {\n",
       "        vertical-align: middle;\n",
       "    }\n",
       "\n",
       "    .dataframe tbody tr th {\n",
       "        vertical-align: top;\n",
       "    }\n",
       "\n",
       "    .dataframe thead th {\n",
       "        text-align: right;\n",
       "    }\n",
       "</style>\n",
       "<table border=\"1\" class=\"dataframe\">\n",
       "  <thead>\n",
       "    <tr style=\"text-align: right;\">\n",
       "      <th></th>\n",
       "      <th>Neighbourhood</th>\n",
       "      <th>Number of Venues</th>\n",
       "    </tr>\n",
       "  </thead>\n",
       "  <tbody>\n",
       "    <tr>\n",
       "      <th>0</th>\n",
       "      <td>St. James Town</td>\n",
       "      <td>100</td>\n",
       "    </tr>\n",
       "    <tr>\n",
       "      <th>1</th>\n",
       "      <td>Ryerson, Garden District</td>\n",
       "      <td>100</td>\n",
       "    </tr>\n",
       "    <tr>\n",
       "      <th>2</th>\n",
       "      <td>Commerce Court, Victoria Hotel</td>\n",
       "      <td>100</td>\n",
       "    </tr>\n",
       "    <tr>\n",
       "      <th>3</th>\n",
       "      <td>First Canadian Place, Underground city</td>\n",
       "      <td>100</td>\n",
       "    </tr>\n",
       "    <tr>\n",
       "      <th>4</th>\n",
       "      <td>Design Exchange, Toronto Dominion Centre</td>\n",
       "      <td>100</td>\n",
       "    </tr>\n",
       "  </tbody>\n",
       "</table>\n",
       "</div>"
      ],
      "text/plain": [
       "                              Neighbourhood  Number of Venues\n",
       "0                            St. James Town               100\n",
       "1                  Ryerson, Garden District               100\n",
       "2            Commerce Court, Victoria Hotel               100\n",
       "3    First Canadian Place, Underground city               100\n",
       "4  Design Exchange, Toronto Dominion Centre               100"
      ]
     },
     "execution_count": 43,
     "metadata": {},
     "output_type": "execute_result"
    }
   ],
   "source": [
    "toronto_venues_neigh.head()"
   ]
  },
  {
   "cell_type": "markdown",
   "metadata": {},
   "source": [
    "We shall find out the top 10 neighbourhoods in terms of number of venues."
   ]
  },
  {
   "cell_type": "code",
   "execution_count": 44,
   "metadata": {},
   "outputs": [
    {
     "name": "stdout",
     "output_type": "stream",
     "text": [
      "(10, 2)\n"
     ]
    },
    {
     "data": {
      "text/html": [
       "<div>\n",
       "<style scoped>\n",
       "    .dataframe tbody tr th:only-of-type {\n",
       "        vertical-align: middle;\n",
       "    }\n",
       "\n",
       "    .dataframe tbody tr th {\n",
       "        vertical-align: top;\n",
       "    }\n",
       "\n",
       "    .dataframe thead th {\n",
       "        text-align: right;\n",
       "    }\n",
       "</style>\n",
       "<table border=\"1\" class=\"dataframe\">\n",
       "  <thead>\n",
       "    <tr style=\"text-align: right;\">\n",
       "      <th></th>\n",
       "      <th>Neighbourhood</th>\n",
       "      <th>Number of Venues</th>\n",
       "    </tr>\n",
       "  </thead>\n",
       "  <tbody>\n",
       "    <tr>\n",
       "      <th>0</th>\n",
       "      <td>St. James Town</td>\n",
       "      <td>100</td>\n",
       "    </tr>\n",
       "    <tr>\n",
       "      <th>1</th>\n",
       "      <td>Ryerson, Garden District</td>\n",
       "      <td>100</td>\n",
       "    </tr>\n",
       "    <tr>\n",
       "      <th>2</th>\n",
       "      <td>Commerce Court, Victoria Hotel</td>\n",
       "      <td>100</td>\n",
       "    </tr>\n",
       "  </tbody>\n",
       "</table>\n",
       "</div>"
      ],
      "text/plain": [
       "                    Neighbourhood  Number of Venues\n",
       "0                  St. James Town               100\n",
       "1        Ryerson, Garden District               100\n",
       "2  Commerce Court, Victoria Hotel               100"
      ]
     },
     "execution_count": 44,
     "metadata": {},
     "output_type": "execute_result"
    }
   ],
   "source": [
    "toronto_venues_neigh_top = toronto_venues_neigh.nlargest(10, 'Number of Venues', keep = 'all')\n",
    "print(toronto_venues_neigh_top.shape)\n",
    "toronto_venues_neigh_top.head(3)"
   ]
  },
  {
   "cell_type": "markdown",
   "metadata": {},
   "source": [
    "Let us draw a graph of the popular neighbourhoods in Toronto."
   ]
  },
  {
   "cell_type": "code",
   "execution_count": 45,
   "metadata": {},
   "outputs": [
    {
     "data": {
      "image/png": "[encoded data removed]",
      "text/plain": [
       "<Figure size 1440x576 with 1 Axes>"
      ]
     },
     "metadata": {
      "needs_background": "light"
     },
     "output_type": "display_data"
    }
   ],
   "source": [
    "plt.figure(figsize=(20,8))\n",
    "sns_plot = sns.barplot(y='Neighbourhood', x='Number of Venues', data=toronto_venues_neigh_top)\n",
    "sns_plot.axes.set_title('Popular Neighborhoods in Toronto',fontsize=30)\n",
    "plt.savefig('toronto_venues_neigh_top.png')"
   ]
  },
  {
   "cell_type": "markdown",
   "metadata": {},
   "source": [
    "## Popular Venue Categories in Toronto"
   ]
  },
  {
   "cell_type": "markdown",
   "metadata": {},
   "source": [
    "#### Let us summarize the data for number of venue categories in each neighbourhoods"
   ]
  },
  {
   "cell_type": "markdown",
   "metadata": {},
   "source": [
    "We shall count the number of venue categories in the sample, reset index and then rename columns."
   ]
  },
  {
   "cell_type": "code",
   "execution_count": 46,
   "metadata": {},
   "outputs": [],
   "source": [
    "toronto_venues_venue_cat = toronto_venues['Venue Category'].value_counts().to_frame()\n",
    "toronto_venues_venue_cat.reset_index(inplace=True)\n",
    "toronto_venues_venue_cat.rename({'index':'Venue Category', 'Venue Category':'Number of Venues'}, axis='columns', inplace=True)"
   ]
  },
  {
   "cell_type": "code",
   "execution_count": 47,
   "metadata": {},
   "outputs": [
    {
     "data": {
      "text/html": [
       "<div>\n",
       "<style scoped>\n",
       "    .dataframe tbody tr th:only-of-type {\n",
       "        vertical-align: middle;\n",
       "    }\n",
       "\n",
       "    .dataframe tbody tr th {\n",
       "        vertical-align: top;\n",
       "    }\n",
       "\n",
       "    .dataframe thead th {\n",
       "        text-align: right;\n",
       "    }\n",
       "</style>\n",
       "<table border=\"1\" class=\"dataframe\">\n",
       "  <thead>\n",
       "    <tr style=\"text-align: right;\">\n",
       "      <th></th>\n",
       "      <th>Venue Category</th>\n",
       "      <th>Number of Venues</th>\n",
       "    </tr>\n",
       "  </thead>\n",
       "  <tbody>\n",
       "    <tr>\n",
       "      <th>0</th>\n",
       "      <td>Coffee Shop</td>\n",
       "      <td>193</td>\n",
       "    </tr>\n",
       "    <tr>\n",
       "      <th>1</th>\n",
       "      <td>Café</td>\n",
       "      <td>99</td>\n",
       "    </tr>\n",
       "    <tr>\n",
       "      <th>2</th>\n",
       "      <td>Restaurant</td>\n",
       "      <td>64</td>\n",
       "    </tr>\n",
       "    <tr>\n",
       "      <th>3</th>\n",
       "      <td>Pizza Place</td>\n",
       "      <td>50</td>\n",
       "    </tr>\n",
       "    <tr>\n",
       "      <th>4</th>\n",
       "      <td>Park</td>\n",
       "      <td>50</td>\n",
       "    </tr>\n",
       "  </tbody>\n",
       "</table>\n",
       "</div>"
      ],
      "text/plain": [
       "  Venue Category  Number of Venues\n",
       "0    Coffee Shop               193\n",
       "1           Café                99\n",
       "2     Restaurant                64\n",
       "3    Pizza Place                50\n",
       "4           Park                50"
      ]
     },
     "execution_count": 47,
     "metadata": {},
     "output_type": "execute_result"
    }
   ],
   "source": [
    "toronto_venues_venue_cat.head()"
   ]
  },
  {
   "cell_type": "markdown",
   "metadata": {},
   "source": [
    "We shall find out the top 10 venue categories in terms of number of venues."
   ]
  },
  {
   "cell_type": "code",
   "execution_count": 48,
   "metadata": {},
   "outputs": [
    {
     "data": {
      "text/html": [
       "<div>\n",
       "<style scoped>\n",
       "    .dataframe tbody tr th:only-of-type {\n",
       "        vertical-align: middle;\n",
       "    }\n",
       "\n",
       "    .dataframe tbody tr th {\n",
       "        vertical-align: top;\n",
       "    }\n",
       "\n",
       "    .dataframe thead th {\n",
       "        text-align: right;\n",
       "    }\n",
       "</style>\n",
       "<table border=\"1\" class=\"dataframe\">\n",
       "  <thead>\n",
       "    <tr style=\"text-align: right;\">\n",
       "      <th></th>\n",
       "      <th>Venue Category</th>\n",
       "      <th>Number of Venues</th>\n",
       "    </tr>\n",
       "  </thead>\n",
       "  <tbody>\n",
       "    <tr>\n",
       "      <th>0</th>\n",
       "      <td>Coffee Shop</td>\n",
       "      <td>193</td>\n",
       "    </tr>\n",
       "    <tr>\n",
       "      <th>1</th>\n",
       "      <td>Café</td>\n",
       "      <td>99</td>\n",
       "    </tr>\n",
       "    <tr>\n",
       "      <th>2</th>\n",
       "      <td>Restaurant</td>\n",
       "      <td>64</td>\n",
       "    </tr>\n",
       "  </tbody>\n",
       "</table>\n",
       "</div>"
      ],
      "text/plain": [
       "  Venue Category  Number of Venues\n",
       "0    Coffee Shop               193\n",
       "1           Café                99\n",
       "2     Restaurant                64"
      ]
     },
     "execution_count": 48,
     "metadata": {},
     "output_type": "execute_result"
    }
   ],
   "source": [
    "toronto_venues_venue_cat_top = toronto_venues_venue_cat.nlargest(10, 'Number of Venues', keep = 'all')\n",
    "toronto_venues_venue_cat_top.head(3)"
   ]
  },
  {
   "cell_type": "markdown",
   "metadata": {},
   "source": [
    "Let us draw a graph of the popular venue categories in Toronto."
   ]
  },
  {
   "cell_type": "code",
   "execution_count": 49,
   "metadata": {},
   "outputs": [
    {
     "data": {
      "image/png": "[encoded data removed]",
      "text/plain": [
       "<Figure size 1440x576 with 1 Axes>"
      ]
     },
     "metadata": {
      "needs_background": "light"
     },
     "output_type": "display_data"
    }
   ],
   "source": [
    "plt.figure(figsize=(20,8))\n",
    "sns_plot = sns.barplot(x='Venue Category', y='Number of Venues', data=toronto_venues_venue_cat_top)\n",
    "sns_plot.axes.set_title('Popular Venue Categories in Toronto',fontsize=30)\n",
    "plt.savefig('toronto_venues_venue_cat_top.png', transparent=True)"
   ]
  },
  {
   "cell_type": "markdown",
   "metadata": {},
   "source": [
    "We learn from the above graph that *coffee shop* is the most popular category followed by cafe."
   ]
  },
  {
   "cell_type": "markdown",
   "metadata": {},
   "source": [
    "## Popular Venues in Toronto"
   ]
  },
  {
   "cell_type": "markdown",
   "metadata": {},
   "source": [
    "#### Let us summarize the data for number of venues (brands) in each neighbourhood in Toronto."
   ]
  },
  {
   "cell_type": "markdown",
   "metadata": {},
   "source": [
    "We shall count the number of venues (brands) in the sample, reset index and then rename columns."
   ]
  },
  {
   "cell_type": "code",
   "execution_count": 50,
   "metadata": {},
   "outputs": [],
   "source": [
    "toronto_venues_venues = toronto_venues['Venue'].value_counts().to_frame()\n",
    "toronto_venues_venues.reset_index(inplace=True)\n",
    "toronto_venues_venues.rename({'index':'Venue', 'Venue':'Number of Locations'}, axis='columns', inplace=True)"
   ]
  },
  {
   "cell_type": "code",
   "execution_count": 51,
   "metadata": {},
   "outputs": [
    {
     "data": {
      "text/html": [
       "<div>\n",
       "<style scoped>\n",
       "    .dataframe tbody tr th:only-of-type {\n",
       "        vertical-align: middle;\n",
       "    }\n",
       "\n",
       "    .dataframe tbody tr th {\n",
       "        vertical-align: top;\n",
       "    }\n",
       "\n",
       "    .dataframe thead th {\n",
       "        text-align: right;\n",
       "    }\n",
       "</style>\n",
       "<table border=\"1\" class=\"dataframe\">\n",
       "  <thead>\n",
       "    <tr style=\"text-align: right;\">\n",
       "      <th></th>\n",
       "      <th>Venue</th>\n",
       "      <th>Number of Locations</th>\n",
       "    </tr>\n",
       "  </thead>\n",
       "  <tbody>\n",
       "    <tr>\n",
       "      <th>0</th>\n",
       "      <td>Starbucks</td>\n",
       "      <td>74</td>\n",
       "    </tr>\n",
       "    <tr>\n",
       "      <th>1</th>\n",
       "      <td>Tim Hortons</td>\n",
       "      <td>39</td>\n",
       "    </tr>\n",
       "    <tr>\n",
       "      <th>2</th>\n",
       "      <td>Subway</td>\n",
       "      <td>28</td>\n",
       "    </tr>\n",
       "    <tr>\n",
       "      <th>3</th>\n",
       "      <td>LCBO</td>\n",
       "      <td>17</td>\n",
       "    </tr>\n",
       "    <tr>\n",
       "      <th>4</th>\n",
       "      <td>Shoppers Drug Mart</td>\n",
       "      <td>16</td>\n",
       "    </tr>\n",
       "  </tbody>\n",
       "</table>\n",
       "</div>"
      ],
      "text/plain": [
       "                Venue  Number of Locations\n",
       "0           Starbucks                   74\n",
       "1         Tim Hortons                   39\n",
       "2              Subway                   28\n",
       "3                LCBO                   17\n",
       "4  Shoppers Drug Mart                   16"
      ]
     },
     "execution_count": 51,
     "metadata": {},
     "output_type": "execute_result"
    }
   ],
   "source": [
    "toronto_venues_venues.head()"
   ]
  },
  {
   "cell_type": "markdown",
   "metadata": {},
   "source": [
    "We shall find out the top 10 venue categories in terms of number of venues."
   ]
  },
  {
   "cell_type": "code",
   "execution_count": 52,
   "metadata": {},
   "outputs": [
    {
     "data": {
      "text/html": [
       "<div>\n",
       "<style scoped>\n",
       "    .dataframe tbody tr th:only-of-type {\n",
       "        vertical-align: middle;\n",
       "    }\n",
       "\n",
       "    .dataframe tbody tr th {\n",
       "        vertical-align: top;\n",
       "    }\n",
       "\n",
       "    .dataframe thead th {\n",
       "        text-align: right;\n",
       "    }\n",
       "</style>\n",
       "<table border=\"1\" class=\"dataframe\">\n",
       "  <thead>\n",
       "    <tr style=\"text-align: right;\">\n",
       "      <th></th>\n",
       "      <th>Venue</th>\n",
       "      <th>Number of Locations</th>\n",
       "    </tr>\n",
       "  </thead>\n",
       "  <tbody>\n",
       "    <tr>\n",
       "      <th>0</th>\n",
       "      <td>Starbucks</td>\n",
       "      <td>74</td>\n",
       "    </tr>\n",
       "    <tr>\n",
       "      <th>1</th>\n",
       "      <td>Tim Hortons</td>\n",
       "      <td>39</td>\n",
       "    </tr>\n",
       "    <tr>\n",
       "      <th>2</th>\n",
       "      <td>Subway</td>\n",
       "      <td>28</td>\n",
       "    </tr>\n",
       "  </tbody>\n",
       "</table>\n",
       "</div>"
      ],
      "text/plain": [
       "         Venue  Number of Locations\n",
       "0    Starbucks                   74\n",
       "1  Tim Hortons                   39\n",
       "2       Subway                   28"
      ]
     },
     "execution_count": 52,
     "metadata": {},
     "output_type": "execute_result"
    }
   ],
   "source": [
    "toronto_venues_venues_top = toronto_venues_venues.nlargest(10, 'Number of Locations', keep = 'all')\n",
    "toronto_venues_venues_top.head(3)"
   ]
  },
  {
   "cell_type": "markdown",
   "metadata": {},
   "source": [
    "Let us draw a graph of the popular venue categories in Toronto."
   ]
  },
  {
   "cell_type": "code",
   "execution_count": 53,
   "metadata": {},
   "outputs": [
    {
     "data": {
      "image/png": "[encoded data removed]",
      "text/plain": [
       "<Figure size 1440x576 with 1 Axes>"
      ]
     },
     "metadata": {
      "needs_background": "light"
     },
     "output_type": "display_data"
    }
   ],
   "source": [
    "plt.figure(figsize=(20,8))\n",
    "sns_plot = sns.barplot(x='Venue', y='Number of Locations', data=toronto_venues_venues_top)\n",
    "sns_plot.axes.set_title('Popular Venues in Toronto',fontsize=30)\n",
    "plt.savefig('toronto_venues_venues_top.png')"
   ]
  },
  {
   "cell_type": "markdown",
   "metadata": {},
   "source": [
    "The above graph shows a variety of venues among the top 10 popular venues with **coffee shops** occupying the top two positions."
   ]
  },
  {
   "cell_type": "markdown",
   "metadata": {},
   "source": [
    "## Analyze number of Coffee Shops in Each Neighborhoods"
   ]
  },
  {
   "cell_type": "markdown",
   "metadata": {},
   "source": [
    "### From analysis of venue categories, we have learnt that *Coffee Shops* are the most popular category"
   ]
  },
  {
   "cell_type": "markdown",
   "metadata": {},
   "source": [
    "Let's check how many coffee shop venues were returned for each neighborhood"
   ]
  },
  {
   "cell_type": "markdown",
   "metadata": {},
   "source": [
    "#### Let's find out how many unique neighbourhoods can be served from all the returned coffee shops"
   ]
  },
  {
   "cell_type": "code",
   "execution_count": 54,
   "metadata": {},
   "outputs": [],
   "source": [
    "toronto_venues_coffee_shops = toronto_venues[toronto_venues['Venue Category'] == 'Coffee Shop']\n",
    "toronto_venues_coffee_shops.reset_index(inplace=True)"
   ]
  },
  {
   "cell_type": "code",
   "execution_count": 55,
   "metadata": {},
   "outputs": [
    {
     "name": "stdout",
     "output_type": "stream",
     "text": [
      "There are 193 coffee shops in 49 neighbourhoods.\n"
     ]
    }
   ],
   "source": [
    "print('There are {} coffee shops in {} neighbourhoods.'.format(len(toronto_venues_coffee_shops['Venue']), len(toronto_venues_coffee_shops['Neighbourhood'].unique())))"
   ]
  },
  {
   "cell_type": "markdown",
   "metadata": {},
   "source": [
    "#### Let find our number of coffee shops in each neighbourhood."
   ]
  },
  {
   "cell_type": "code",
   "execution_count": 56,
   "metadata": {},
   "outputs": [
    {
     "name": "stdout",
     "output_type": "stream",
     "text": [
      "(49, 2)\n"
     ]
    },
    {
     "data": {
      "text/html": [
       "<div>\n",
       "<style scoped>\n",
       "    .dataframe tbody tr th:only-of-type {\n",
       "        vertical-align: middle;\n",
       "    }\n",
       "\n",
       "    .dataframe tbody tr th {\n",
       "        vertical-align: top;\n",
       "    }\n",
       "\n",
       "    .dataframe thead th {\n",
       "        text-align: right;\n",
       "    }\n",
       "</style>\n",
       "<table border=\"1\" class=\"dataframe\">\n",
       "  <thead>\n",
       "    <tr style=\"text-align: right;\">\n",
       "      <th></th>\n",
       "      <th>Neighbourhood</th>\n",
       "      <th>Number of Coffee Shops</th>\n",
       "    </tr>\n",
       "  </thead>\n",
       "  <tbody>\n",
       "    <tr>\n",
       "      <th>0</th>\n",
       "      <td>Central Bay Street</td>\n",
       "      <td>14</td>\n",
       "    </tr>\n",
       "    <tr>\n",
       "      <th>1</th>\n",
       "      <td>First Canadian Place, Underground city</td>\n",
       "      <td>13</td>\n",
       "    </tr>\n",
       "    <tr>\n",
       "      <th>2</th>\n",
       "      <td>Harbourfront East, Toronto Islands, Union Station</td>\n",
       "      <td>12</td>\n",
       "    </tr>\n",
       "    <tr>\n",
       "      <th>3</th>\n",
       "      <td>Commerce Court, Victoria Hotel</td>\n",
       "      <td>12</td>\n",
       "    </tr>\n",
       "    <tr>\n",
       "      <th>4</th>\n",
       "      <td>Design Exchange, Toronto Dominion Centre</td>\n",
       "      <td>12</td>\n",
       "    </tr>\n",
       "  </tbody>\n",
       "</table>\n",
       "</div>"
      ],
      "text/plain": [
       "                                       Neighbourhood  Number of Coffee Shops\n",
       "0                                 Central Bay Street                      14\n",
       "1             First Canadian Place, Underground city                      13\n",
       "2  Harbourfront East, Toronto Islands, Union Station                      12\n",
       "3                     Commerce Court, Victoria Hotel                      12\n",
       "4           Design Exchange, Toronto Dominion Centre                      12"
      ]
     },
     "execution_count": 56,
     "metadata": {},
     "output_type": "execute_result"
    }
   ],
   "source": [
    "toronto_venues_neigh_coffee_shops = toronto_venues_coffee_shops['Neighbourhood'].value_counts().to_frame()\n",
    "toronto_venues_neigh_coffee_shops.reset_index(inplace=True)\n",
    "toronto_venues_neigh_coffee_shops.rename({'index' : 'Neighbourhood', 'Neighbourhood' : 'Number of Coffee Shops'}, axis='columns', inplace=True, errors= 'raise')\n",
    "print(toronto_venues_neigh_coffee_shops.shape)\n",
    "toronto_venues_neigh_coffee_shops.head()"
   ]
  },
  {
   "cell_type": "markdown",
   "metadata": {},
   "source": [
    "### Nighbourhoods Having Highest Number of Coffee Shops"
   ]
  },
  {
   "cell_type": "markdown",
   "metadata": {},
   "source": [
    "Let us draw a graph of top 10 neighbourhoods in terms of number of coffee shops."
   ]
  },
  {
   "cell_type": "code",
   "execution_count": 58,
   "metadata": {},
   "outputs": [
    {
     "data": {
      "image/png": "[encoded data removed]",
      "text/plain": [
       "<Figure size 1440x576 with 1 Axes>"
      ]
     },
     "metadata": {
      "needs_background": "light"
     },
     "output_type": "display_data"
    }
   ],
   "source": [
    "plt.figure(figsize=(20, 8))\n",
    "sns_plot = sns.barplot(x='Number of Coffee Shops', y= 'Neighbourhood', \\\n",
    "                       data = toronto_venues_neigh_coffee_shops.nlargest(10, columns='Number of Coffee Shops', keep='all'))\n",
    "sns_plot.axes.set_title('Neighbourhoods in Toronto with Highest Number of Coffee Shops',fontsize=30)\n",
    "plt.savefig('toronto_venues_neigh_max_coffee_shops.png')"
   ]
  },
  {
   "cell_type": "markdown",
   "metadata": {},
   "source": [
    "## Popular Coffee Shop Venues (Brands)"
   ]
  },
  {
   "cell_type": "markdown",
   "metadata": {},
   "source": [
    "#### Let us analyze data to find out the popular coffee shop venues."
   ]
  },
  {
   "cell_type": "markdown",
   "metadata": {},
   "source": [
    "We shall count number of coffee shop venues, reset the index of dataframe and rename columns."
   ]
  },
  {
   "cell_type": "code",
   "execution_count": 59,
   "metadata": {},
   "outputs": [],
   "source": [
    "toronto_venues_coffee_shops_count = toronto_venues_coffee_shops['Venue'].value_counts().to_frame()\n",
    "toronto_venues_coffee_shops_count.reset_index(inplace=True)\n",
    "toronto_venues_coffee_shops_count.rename({'index':'Coffee Shop', 'Venue':'Count'}, axis='columns', inplace=True)\n"
   ]
  },
  {
   "cell_type": "markdown",
   "metadata": {},
   "source": [
    "We shall filter the data to find out top 5 coffee shop venues."
   ]
  },
  {
   "cell_type": "code",
   "execution_count": 60,
   "metadata": {},
   "outputs": [],
   "source": [
    "toronto_venues_coffee_shops_top = toronto_venues_coffee_shops_count.nlargest(5, columns='Count', keep='all')"
   ]
  },
  {
   "cell_type": "code",
   "execution_count": 61,
   "metadata": {},
   "outputs": [
    {
     "name": "stdout",
     "output_type": "stream",
     "text": [
      "(5, 2)\n"
     ]
    },
    {
     "data": {
      "text/html": [
       "<div>\n",
       "<style scoped>\n",
       "    .dataframe tbody tr th:only-of-type {\n",
       "        vertical-align: middle;\n",
       "    }\n",
       "\n",
       "    .dataframe tbody tr th {\n",
       "        vertical-align: top;\n",
       "    }\n",
       "\n",
       "    .dataframe thead th {\n",
       "        text-align: right;\n",
       "    }\n",
       "</style>\n",
       "<table border=\"1\" class=\"dataframe\">\n",
       "  <thead>\n",
       "    <tr style=\"text-align: right;\">\n",
       "      <th></th>\n",
       "      <th>Coffee Shop</th>\n",
       "      <th>Count</th>\n",
       "    </tr>\n",
       "  </thead>\n",
       "  <tbody>\n",
       "    <tr>\n",
       "      <th>0</th>\n",
       "      <td>Starbucks</td>\n",
       "      <td>74</td>\n",
       "    </tr>\n",
       "    <tr>\n",
       "      <th>1</th>\n",
       "      <td>Tim Hortons</td>\n",
       "      <td>39</td>\n",
       "    </tr>\n",
       "    <tr>\n",
       "      <th>2</th>\n",
       "      <td>Pilot Coffee Roasters</td>\n",
       "      <td>9</td>\n",
       "    </tr>\n",
       "    <tr>\n",
       "      <th>3</th>\n",
       "      <td>Dineen @CommerceCourt</td>\n",
       "      <td>5</td>\n",
       "    </tr>\n",
       "    <tr>\n",
       "      <th>4</th>\n",
       "      <td>Second Cup</td>\n",
       "      <td>4</td>\n",
       "    </tr>\n",
       "  </tbody>\n",
       "</table>\n",
       "</div>"
      ],
      "text/plain": [
       "             Coffee Shop  Count\n",
       "0              Starbucks     74\n",
       "1            Tim Hortons     39\n",
       "2  Pilot Coffee Roasters      9\n",
       "3  Dineen @CommerceCourt      5\n",
       "4             Second Cup      4"
      ]
     },
     "execution_count": 61,
     "metadata": {},
     "output_type": "execute_result"
    }
   ],
   "source": [
    "print(toronto_venues_coffee_shops_top.shape)\n",
    "toronto_venues_coffee_shops_top.head()"
   ]
  },
  {
   "cell_type": "markdown",
   "metadata": {},
   "source": [
    "Let us draw a graph of the top 5 popular coffee shop venues in Toronto."
   ]
  },
  {
   "cell_type": "code",
   "execution_count": 62,
   "metadata": {},
   "outputs": [
    {
     "data": {
      "image/png": "[encoded data removed]",
      "text/plain": [
       "<Figure size 1440x576 with 1 Axes>"
      ]
     },
     "metadata": {
      "needs_background": "light"
     },
     "output_type": "display_data"
    }
   ],
   "source": [
    "plt.figure(figsize=(20, 8))\n",
    "sns_plot = sns.barplot(x='Coffee Shop', y= 'Count', \\\n",
    "                       data = toronto_venues_coffee_shops_top)\n",
    "sns_plot.axes.set_title('Top 5 Coffee Shops in Toronto',fontsize=30)\n",
    "plt.savefig('toronto_venues_coffee_shops_top.png')"
   ]
  },
  {
   "cell_type": "markdown",
   "metadata": {},
   "source": [
    "We learn that in Toronto Starbucks in the most popular coffee shop venue followed by Tim Hortons."
   ]
  },
  {
   "cell_type": "markdown",
   "metadata": {},
   "source": [
    "## Analysis of Coffee Shops in Neighborhoods"
   ]
  },
  {
   "cell_type": "markdown",
   "metadata": {},
   "source": [
    "### Now we will draw a comparison of the total venues vis-a-vis coffee shops in Toronto."
   ]
  },
  {
   "cell_type": "code",
   "execution_count": 78,
   "metadata": {},
   "outputs": [
    {
     "data": {
      "text/html": [
       "<div>\n",
       "<style scoped>\n",
       "    .dataframe tbody tr th:only-of-type {\n",
       "        vertical-align: middle;\n",
       "    }\n",
       "\n",
       "    .dataframe tbody tr th {\n",
       "        vertical-align: top;\n",
       "    }\n",
       "\n",
       "    .dataframe thead th {\n",
       "        text-align: right;\n",
       "    }\n",
       "</style>\n",
       "<table border=\"1\" class=\"dataframe\">\n",
       "  <thead>\n",
       "    <tr style=\"text-align: right;\">\n",
       "      <th></th>\n",
       "      <th>Neighbourhood</th>\n",
       "      <th>Number of Venues</th>\n",
       "    </tr>\n",
       "  </thead>\n",
       "  <tbody>\n",
       "    <tr>\n",
       "      <th>0</th>\n",
       "      <td>St. James Town</td>\n",
       "      <td>100</td>\n",
       "    </tr>\n",
       "    <tr>\n",
       "      <th>1</th>\n",
       "      <td>Ryerson, Garden District</td>\n",
       "      <td>100</td>\n",
       "    </tr>\n",
       "    <tr>\n",
       "      <th>2</th>\n",
       "      <td>Commerce Court, Victoria Hotel</td>\n",
       "      <td>100</td>\n",
       "    </tr>\n",
       "  </tbody>\n",
       "</table>\n",
       "</div>"
      ],
      "text/plain": [
       "                    Neighbourhood  Number of Venues\n",
       "0                  St. James Town               100\n",
       "1        Ryerson, Garden District               100\n",
       "2  Commerce Court, Victoria Hotel               100"
      ]
     },
     "execution_count": 78,
     "metadata": {},
     "output_type": "execute_result"
    }
   ],
   "source": [
    "toronto_venues_neigh.head(3)"
   ]
  },
  {
   "cell_type": "code",
   "execution_count": 79,
   "metadata": {},
   "outputs": [
    {
     "data": {
      "text/html": [
       "<div>\n",
       "<style scoped>\n",
       "    .dataframe tbody tr th:only-of-type {\n",
       "        vertical-align: middle;\n",
       "    }\n",
       "\n",
       "    .dataframe tbody tr th {\n",
       "        vertical-align: top;\n",
       "    }\n",
       "\n",
       "    .dataframe thead th {\n",
       "        text-align: right;\n",
       "    }\n",
       "</style>\n",
       "<table border=\"1\" class=\"dataframe\">\n",
       "  <thead>\n",
       "    <tr style=\"text-align: right;\">\n",
       "      <th></th>\n",
       "      <th>Neighbourhood</th>\n",
       "      <th>Number of Coffee Shops</th>\n",
       "    </tr>\n",
       "  </thead>\n",
       "  <tbody>\n",
       "    <tr>\n",
       "      <th>0</th>\n",
       "      <td>Central Bay Street</td>\n",
       "      <td>14</td>\n",
       "    </tr>\n",
       "    <tr>\n",
       "      <th>1</th>\n",
       "      <td>First Canadian Place, Underground city</td>\n",
       "      <td>13</td>\n",
       "    </tr>\n",
       "    <tr>\n",
       "      <th>2</th>\n",
       "      <td>Harbourfront East, Toronto Islands, Union Station</td>\n",
       "      <td>12</td>\n",
       "    </tr>\n",
       "  </tbody>\n",
       "</table>\n",
       "</div>"
      ],
      "text/plain": [
       "                                       Neighbourhood  Number of Coffee Shops\n",
       "0                                 Central Bay Street                      14\n",
       "1             First Canadian Place, Underground city                      13\n",
       "2  Harbourfront East, Toronto Islands, Union Station                      12"
      ]
     },
     "execution_count": 79,
     "metadata": {},
     "output_type": "execute_result"
    }
   ],
   "source": [
    "toronto_venues_neigh_coffee_shops.head(3)"
   ]
  },
  {
   "cell_type": "markdown",
   "metadata": {},
   "source": [
    "We shall merge the dataframe containing all venues and the dataframe containing cofee shops."
   ]
  },
  {
   "cell_type": "code",
   "execution_count": 80,
   "metadata": {},
   "outputs": [],
   "source": [
    "toronto_venues_neigh_and_coffee = toronto_venues_neigh.merge(toronto_venues_neigh_coffee_shops, how='inner')\n",
    "toronto_venues_neigh_and_coffee['Percent of Coffee Shops'] = toronto_venues_neigh_and_coffee['Number of Coffee Shops'] /  toronto_venues_neigh_and_coffee['Number of Venues']"
   ]
  },
  {
   "cell_type": "code",
   "execution_count": 81,
   "metadata": {},
   "outputs": [
    {
     "data": {
      "text/html": [
       "<div>\n",
       "<style scoped>\n",
       "    .dataframe tbody tr th:only-of-type {\n",
       "        vertical-align: middle;\n",
       "    }\n",
       "\n",
       "    .dataframe tbody tr th {\n",
       "        vertical-align: top;\n",
       "    }\n",
       "\n",
       "    .dataframe thead th {\n",
       "        text-align: right;\n",
       "    }\n",
       "</style>\n",
       "<table border=\"1\" class=\"dataframe\">\n",
       "  <thead>\n",
       "    <tr style=\"text-align: right;\">\n",
       "      <th></th>\n",
       "      <th>Neighbourhood</th>\n",
       "      <th>Number of Venues</th>\n",
       "      <th>Number of Coffee Shops</th>\n",
       "      <th>Percent of Coffee Shops</th>\n",
       "    </tr>\n",
       "  </thead>\n",
       "  <tbody>\n",
       "    <tr>\n",
       "      <th>0</th>\n",
       "      <td>St. James Town</td>\n",
       "      <td>100</td>\n",
       "      <td>8</td>\n",
       "      <td>0.08</td>\n",
       "    </tr>\n",
       "    <tr>\n",
       "      <th>1</th>\n",
       "      <td>Ryerson, Garden District</td>\n",
       "      <td>100</td>\n",
       "      <td>9</td>\n",
       "      <td>0.09</td>\n",
       "    </tr>\n",
       "    <tr>\n",
       "      <th>2</th>\n",
       "      <td>Commerce Court, Victoria Hotel</td>\n",
       "      <td>100</td>\n",
       "      <td>12</td>\n",
       "      <td>0.12</td>\n",
       "    </tr>\n",
       "    <tr>\n",
       "      <th>3</th>\n",
       "      <td>First Canadian Place, Underground city</td>\n",
       "      <td>100</td>\n",
       "      <td>13</td>\n",
       "      <td>0.13</td>\n",
       "    </tr>\n",
       "    <tr>\n",
       "      <th>4</th>\n",
       "      <td>Design Exchange, Toronto Dominion Centre</td>\n",
       "      <td>100</td>\n",
       "      <td>12</td>\n",
       "      <td>0.12</td>\n",
       "    </tr>\n",
       "  </tbody>\n",
       "</table>\n",
       "</div>"
      ],
      "text/plain": [
       "                              Neighbourhood  Number of Venues  \\\n",
       "0                            St. James Town               100   \n",
       "1                  Ryerson, Garden District               100   \n",
       "2            Commerce Court, Victoria Hotel               100   \n",
       "3    First Canadian Place, Underground city               100   \n",
       "4  Design Exchange, Toronto Dominion Centre               100   \n",
       "\n",
       "   Number of Coffee Shops  Percent of Coffee Shops  \n",
       "0                       8                     0.08  \n",
       "1                       9                     0.09  \n",
       "2                      12                     0.12  \n",
       "3                      13                     0.13  \n",
       "4                      12                     0.12  "
      ]
     },
     "execution_count": 81,
     "metadata": {},
     "output_type": "execute_result"
    }
   ],
   "source": [
    "toronto_venues_neigh_and_coffee.head()"
   ]
  },
  {
   "cell_type": "markdown",
   "metadata": {},
   "source": [
    "### Number of Coffee Shops vs Total Venues"
   ]
  },
  {
   "cell_type": "markdown",
   "metadata": {},
   "source": [
    "We shall draw a scatter plot of the number of venues against the number of coffee shops. The size of each dot represents the number of coffee shops in each neighbourhood."
   ]
  },
  {
   "cell_type": "code",
   "execution_count": 82,
   "metadata": {},
   "outputs": [
    {
     "data": {
      "image/png": "[encoded data removed]",
      "text/plain": [
       "<Figure size 1440x576 with 1 Axes>"
      ]
     },
     "metadata": {
      "needs_background": "light"
     },
     "output_type": "display_data"
    }
   ],
   "source": [
    "plt.figure(figsize=(20,8))\n",
    "sns_plot = sns.scatterplot(y='Number of Coffee Shops', x='Number of Venues', \\\n",
    "                                 size='Percent of Coffee Shops', sizes = (50, 500), \\\n",
    "                                 data=toronto_venues_neigh_and_coffee)\n",
    "sns_plot.axes.set_title('Number of Coffee Shops vs Total Venues Per Neighbourhood', fontsize=30)\n",
    "plt.savefig('toronto_venues_neigh_and_coffee_scatter.png')"
   ]
  },
  {
   "cell_type": "markdown",
   "metadata": {},
   "source": [
    "### Correlation Between the Number of Coffee Shops and Total Venues"
   ]
  },
  {
   "cell_type": "markdown",
   "metadata": {},
   "source": [
    "We shall draw a scatter plot of the number of venues against the number of coffee shops. The size of each dot represents the number of coffee shops in each neighbourhood."
   ]
  },
  {
   "cell_type": "code",
   "execution_count": 83,
   "metadata": {},
   "outputs": [
    {
     "data": {
      "image/png": "[encoded data removed]",
      "text/plain": [
       "<Figure size 1440x576 with 1 Axes>"
      ]
     },
     "metadata": {
      "needs_background": "light"
     },
     "output_type": "display_data"
    }
   ],
   "source": [
    "plt.figure(figsize=(20,8))\n",
    "sns_plot = sns.regplot(y='Number of Coffee Shops', x='Number of Venues', \\\n",
    "                                 #size='Percent of Coffee Shops', sizes = (50, 300), \\\n",
    "                                 data=toronto_venues_neigh_and_coffee)\n",
    "sns_plot.axes.set_title('Correlation Between Number of Venues and  Number of Coffee Shops', fontsize=30)\n",
    "plt.savefig('toronto_venues_neigh_and_coffee_regression.png')"
   ]
  },
  {
   "cell_type": "markdown",
   "metadata": {},
   "source": [
    "### Nighbourhoods Having Least Number of Coffee Shops"
   ]
  },
  {
   "cell_type": "markdown",
   "metadata": {},
   "source": [
    "#### Let us analyze data to find out neighbourhoods having least number of coffee shops."
   ]
  },
  {
   "cell_type": "markdown",
   "metadata": {},
   "source": [
    "We shall count number of coffee shop venues, reset the index of dataframe and rename columns."
   ]
  },
  {
   "cell_type": "code",
   "execution_count": 84,
   "metadata": {},
   "outputs": [
    {
     "data": {
      "text/html": [
       "<div>\n",
       "<style scoped>\n",
       "    .dataframe tbody tr th:only-of-type {\n",
       "        vertical-align: middle;\n",
       "    }\n",
       "\n",
       "    .dataframe tbody tr th {\n",
       "        vertical-align: top;\n",
       "    }\n",
       "\n",
       "    .dataframe thead th {\n",
       "        text-align: right;\n",
       "    }\n",
       "</style>\n",
       "<table border=\"1\" class=\"dataframe\">\n",
       "  <thead>\n",
       "    <tr style=\"text-align: right;\">\n",
       "      <th></th>\n",
       "      <th>Neighbourhood</th>\n",
       "      <th>Number of Venues</th>\n",
       "      <th>Number of Coffee Shops</th>\n",
       "      <th>Percent of Coffee Shops</th>\n",
       "    </tr>\n",
       "  </thead>\n",
       "  <tbody>\n",
       "    <tr>\n",
       "      <th>20</th>\n",
       "      <td>Harbord, University of Toronto</td>\n",
       "      <td>36</td>\n",
       "      <td>1</td>\n",
       "      <td>0.027778</td>\n",
       "    </tr>\n",
       "    <tr>\n",
       "      <th>30</th>\n",
       "      <td>Thorncliffe Park</td>\n",
       "      <td>19</td>\n",
       "      <td>1</td>\n",
       "      <td>0.052632</td>\n",
       "    </tr>\n",
       "    <tr>\n",
       "      <th>31</th>\n",
       "      <td>Dovercourt Village, Dufferin</td>\n",
       "      <td>19</td>\n",
       "      <td>1</td>\n",
       "      <td>0.052632</td>\n",
       "    </tr>\n",
       "    <tr>\n",
       "      <th>32</th>\n",
       "      <td>Christie</td>\n",
       "      <td>18</td>\n",
       "      <td>1</td>\n",
       "      <td>0.055556</td>\n",
       "    </tr>\n",
       "    <tr>\n",
       "      <th>33</th>\n",
       "      <td>CN Tower, Bathurst Quay, Island airport, Harbo...</td>\n",
       "      <td>16</td>\n",
       "      <td>1</td>\n",
       "      <td>0.062500</td>\n",
       "    </tr>\n",
       "  </tbody>\n",
       "</table>\n",
       "</div>"
      ],
      "text/plain": [
       "                                        Neighbourhood  Number of Venues  \\\n",
       "20                     Harbord, University of Toronto                36   \n",
       "30                                   Thorncliffe Park                19   \n",
       "31                       Dovercourt Village, Dufferin                19   \n",
       "32                                           Christie                18   \n",
       "33  CN Tower, Bathurst Quay, Island airport, Harbo...                16   \n",
       "\n",
       "    Number of Coffee Shops  Percent of Coffee Shops  \n",
       "20                       1                 0.027778  \n",
       "30                       1                 0.052632  \n",
       "31                       1                 0.052632  \n",
       "32                       1                 0.055556  \n",
       "33                       1                 0.062500  "
      ]
     },
     "execution_count": 84,
     "metadata": {},
     "output_type": "execute_result"
    }
   ],
   "source": [
    "neighbourhoods_with_min_coffee = toronto_venues_neigh_and_coffee.nsmallest(10, columns='Number of Coffee Shops', keep='all')\n",
    "neighbourhoods_with_min_coffee.head()"
   ]
  },
  {
   "cell_type": "markdown",
   "metadata": {},
   "source": [
    "Let us draw a bar chart of the neighbourhoods having least number of coffee shops."
   ]
  },
  {
   "cell_type": "code",
   "execution_count": 85,
   "metadata": {},
   "outputs": [
    {
     "data": {
      "image/png": "[encoded data removed]",
      "text/plain": [
       "<Figure size 1440x576 with 1 Axes>"
      ]
     },
     "metadata": {
      "needs_background": "light"
     },
     "output_type": "display_data"
    }
   ],
   "source": [
    "plt.figure(figsize=(20,8))\n",
    "sns_plot = sns.barplot(y='Neighbourhood', x='Number of Coffee Shops', data=neighbourhoods_with_min_coffee)\n",
    "sns_plot.set_title('Neighbourhood with Minimum Number of Coffee Shops',fontsize=30)\n",
    "plt.savefig('neighbourhoods_with_min_coffee.png')"
   ]
  },
  {
   "cell_type": "markdown",
   "metadata": {},
   "source": [
    "### Potential Neighbourhoods for Opening a Coffee Shop"
   ]
  },
  {
   "cell_type": "markdown",
   "metadata": {},
   "source": [
    "Towards the last part of our analysis, we shall filter out a list of potential neighbourhoods for opening a new coffee shop."
   ]
  },
  {
   "cell_type": "markdown",
   "metadata": {},
   "source": [
    "Our criteria for selection of a potential neighbourhood for opening a new coffee shop are:\n",
    "\n",
    "1. The number of total venues in the neighbourhood must be 50 or more. This is to ensure that ample commercial activity and customer base exists in the neighbourhood.\n",
    "2. The number of existing coffee shops should be less than 20% of the total venues in that neighbourhood. This is to avoid entering a market which is already crowded by competing coffee shops."
   ]
  },
  {
   "cell_type": "code",
   "execution_count": 86,
   "metadata": {},
   "outputs": [],
   "source": [
    "# define the condition for seletion of potential neighbourhoods.\n",
    "potential_coffee_sites_condition = (toronto_venues_neigh_and_coffee['Number of Venues'] >= 50) & \\\n",
    "                            (toronto_venues_neigh_and_coffee['Percent of Coffee Shops'] < 0.2)\n",
    "# apply the condition to filter out potential neighbourhoods for selection\n",
    "potential_coffee_sites = toronto_venues_neigh_and_coffee[potential_coffee_sites_condition]"
   ]
  },
  {
   "cell_type": "code",
   "execution_count": 87,
   "metadata": {},
   "outputs": [
    {
     "data": {
      "text/html": [
       "<div>\n",
       "<style scoped>\n",
       "    .dataframe tbody tr th:only-of-type {\n",
       "        vertical-align: middle;\n",
       "    }\n",
       "\n",
       "    .dataframe tbody tr th {\n",
       "        vertical-align: top;\n",
       "    }\n",
       "\n",
       "    .dataframe thead th {\n",
       "        text-align: right;\n",
       "    }\n",
       "</style>\n",
       "<table border=\"1\" class=\"dataframe\">\n",
       "  <thead>\n",
       "    <tr style=\"text-align: right;\">\n",
       "      <th></th>\n",
       "      <th>Neighbourhood</th>\n",
       "      <th>Number of Venues</th>\n",
       "      <th>Number of Coffee Shops</th>\n",
       "      <th>Percent of Coffee Shops</th>\n",
       "    </tr>\n",
       "  </thead>\n",
       "  <tbody>\n",
       "    <tr>\n",
       "      <th>0</th>\n",
       "      <td>St. James Town</td>\n",
       "      <td>100</td>\n",
       "      <td>8</td>\n",
       "      <td>0.080000</td>\n",
       "    </tr>\n",
       "    <tr>\n",
       "      <th>1</th>\n",
       "      <td>Ryerson, Garden District</td>\n",
       "      <td>100</td>\n",
       "      <td>9</td>\n",
       "      <td>0.090000</td>\n",
       "    </tr>\n",
       "    <tr>\n",
       "      <th>2</th>\n",
       "      <td>Commerce Court, Victoria Hotel</td>\n",
       "      <td>100</td>\n",
       "      <td>12</td>\n",
       "      <td>0.120000</td>\n",
       "    </tr>\n",
       "    <tr>\n",
       "      <th>3</th>\n",
       "      <td>First Canadian Place, Underground city</td>\n",
       "      <td>100</td>\n",
       "      <td>13</td>\n",
       "      <td>0.130000</td>\n",
       "    </tr>\n",
       "    <tr>\n",
       "      <th>4</th>\n",
       "      <td>Design Exchange, Toronto Dominion Centre</td>\n",
       "      <td>100</td>\n",
       "      <td>12</td>\n",
       "      <td>0.120000</td>\n",
       "    </tr>\n",
       "    <tr>\n",
       "      <th>5</th>\n",
       "      <td>Harbourfront East, Toronto Islands, Union Station</td>\n",
       "      <td>100</td>\n",
       "      <td>12</td>\n",
       "      <td>0.120000</td>\n",
       "    </tr>\n",
       "    <tr>\n",
       "      <th>6</th>\n",
       "      <td>Adelaide, King, Richmond</td>\n",
       "      <td>100</td>\n",
       "      <td>7</td>\n",
       "      <td>0.070000</td>\n",
       "    </tr>\n",
       "    <tr>\n",
       "      <th>7</th>\n",
       "      <td>Stn A PO Boxes 25 The Esplanade</td>\n",
       "      <td>95</td>\n",
       "      <td>12</td>\n",
       "      <td>0.126316</td>\n",
       "    </tr>\n",
       "    <tr>\n",
       "      <th>8</th>\n",
       "      <td>Central Bay Street</td>\n",
       "      <td>84</td>\n",
       "      <td>14</td>\n",
       "      <td>0.166667</td>\n",
       "    </tr>\n",
       "    <tr>\n",
       "      <th>9</th>\n",
       "      <td>Church and Wellesley</td>\n",
       "      <td>81</td>\n",
       "      <td>6</td>\n",
       "      <td>0.074074</td>\n",
       "    </tr>\n",
       "    <tr>\n",
       "      <th>10</th>\n",
       "      <td>Chinatown, Grange Park, Kensington Market</td>\n",
       "      <td>80</td>\n",
       "      <td>4</td>\n",
       "      <td>0.050000</td>\n",
       "    </tr>\n",
       "    <tr>\n",
       "      <th>11</th>\n",
       "      <td>Fairview, Henry Farm, Oriole</td>\n",
       "      <td>63</td>\n",
       "      <td>5</td>\n",
       "      <td>0.079365</td>\n",
       "    </tr>\n",
       "    <tr>\n",
       "      <th>12</th>\n",
       "      <td>Berczy Park</td>\n",
       "      <td>55</td>\n",
       "      <td>4</td>\n",
       "      <td>0.072727</td>\n",
       "    </tr>\n",
       "    <tr>\n",
       "      <th>13</th>\n",
       "      <td>Little Portugal, Trinity</td>\n",
       "      <td>51</td>\n",
       "      <td>2</td>\n",
       "      <td>0.039216</td>\n",
       "    </tr>\n",
       "  </tbody>\n",
       "</table>\n",
       "</div>"
      ],
      "text/plain": [
       "                                        Neighbourhood  Number of Venues  \\\n",
       "0                                      St. James Town               100   \n",
       "1                            Ryerson, Garden District               100   \n",
       "2                      Commerce Court, Victoria Hotel               100   \n",
       "3              First Canadian Place, Underground city               100   \n",
       "4            Design Exchange, Toronto Dominion Centre               100   \n",
       "5   Harbourfront East, Toronto Islands, Union Station               100   \n",
       "6                            Adelaide, King, Richmond               100   \n",
       "7                     Stn A PO Boxes 25 The Esplanade                95   \n",
       "8                                  Central Bay Street                84   \n",
       "9                                Church and Wellesley                81   \n",
       "10          Chinatown, Grange Park, Kensington Market                80   \n",
       "11                       Fairview, Henry Farm, Oriole                63   \n",
       "12                                        Berczy Park                55   \n",
       "13                           Little Portugal, Trinity                51   \n",
       "\n",
       "    Number of Coffee Shops  Percent of Coffee Shops  \n",
       "0                        8                 0.080000  \n",
       "1                        9                 0.090000  \n",
       "2                       12                 0.120000  \n",
       "3                       13                 0.130000  \n",
       "4                       12                 0.120000  \n",
       "5                       12                 0.120000  \n",
       "6                        7                 0.070000  \n",
       "7                       12                 0.126316  \n",
       "8                       14                 0.166667  \n",
       "9                        6                 0.074074  \n",
       "10                       4                 0.050000  \n",
       "11                       5                 0.079365  \n",
       "12                       4                 0.072727  \n",
       "13                       2                 0.039216  "
      ]
     },
     "execution_count": 87,
     "metadata": {},
     "output_type": "execute_result"
    }
   ],
   "source": [
    "potential_coffee_sites"
   ]
  },
  {
   "cell_type": "markdown",
   "metadata": {},
   "source": [
    "Fourteen neighbourhoods have been identified as potential areas for opening a new coffee shop venue."
   ]
  },
  {
   "cell_type": "markdown",
   "metadata": {},
   "source": [
    "## Mark Potential Nieghbourhoods on the Map"
   ]
  },
  {
   "cell_type": "markdown",
   "metadata": {},
   "source": [
    "We will mark the identified potential neighbourhoods on the map for visual representation."
   ]
  },
  {
   "cell_type": "code",
   "execution_count": 92,
   "metadata": {},
   "outputs": [
    {
     "data": {
      "text/html": [
       "<div>\n",
       "<style scoped>\n",
       "    .dataframe tbody tr th:only-of-type {\n",
       "        vertical-align: middle;\n",
       "    }\n",
       "\n",
       "    .dataframe tbody tr th {\n",
       "        vertical-align: top;\n",
       "    }\n",
       "\n",
       "    .dataframe thead th {\n",
       "        text-align: right;\n",
       "    }\n",
       "</style>\n",
       "<table border=\"1\" class=\"dataframe\">\n",
       "  <thead>\n",
       "    <tr style=\"text-align: right;\">\n",
       "      <th></th>\n",
       "      <th>Neighbourhood</th>\n",
       "      <th>Number of Venues</th>\n",
       "      <th>Number of Coffee Shops</th>\n",
       "      <th>Percent of Coffee Shops</th>\n",
       "      <th>Postcode</th>\n",
       "      <th>Borough</th>\n",
       "      <th>Latitude</th>\n",
       "      <th>Longitude</th>\n",
       "    </tr>\n",
       "  </thead>\n",
       "  <tbody>\n",
       "    <tr>\n",
       "      <th>0</th>\n",
       "      <td>St. James Town</td>\n",
       "      <td>100</td>\n",
       "      <td>8</td>\n",
       "      <td>0.08</td>\n",
       "      <td>M5C</td>\n",
       "      <td>Downtown Toronto</td>\n",
       "      <td>43.651494</td>\n",
       "      <td>-79.375418</td>\n",
       "    </tr>\n",
       "    <tr>\n",
       "      <th>1</th>\n",
       "      <td>Ryerson, Garden District</td>\n",
       "      <td>100</td>\n",
       "      <td>9</td>\n",
       "      <td>0.09</td>\n",
       "      <td>M5B</td>\n",
       "      <td>Downtown Toronto</td>\n",
       "      <td>43.657162</td>\n",
       "      <td>-79.378937</td>\n",
       "    </tr>\n",
       "    <tr>\n",
       "      <th>2</th>\n",
       "      <td>Commerce Court, Victoria Hotel</td>\n",
       "      <td>100</td>\n",
       "      <td>12</td>\n",
       "      <td>0.12</td>\n",
       "      <td>M5L</td>\n",
       "      <td>Downtown Toronto</td>\n",
       "      <td>43.648198</td>\n",
       "      <td>-79.379817</td>\n",
       "    </tr>\n",
       "  </tbody>\n",
       "</table>\n",
       "</div>"
      ],
      "text/plain": [
       "                    Neighbourhood  Number of Venues  Number of Coffee Shops  \\\n",
       "0                  St. James Town               100                       8   \n",
       "1        Ryerson, Garden District               100                       9   \n",
       "2  Commerce Court, Victoria Hotel               100                      12   \n",
       "\n",
       "   Percent of Coffee Shops Postcode           Borough   Latitude  Longitude  \n",
       "0                     0.08      M5C  Downtown Toronto  43.651494 -79.375418  \n",
       "1                     0.09      M5B  Downtown Toronto  43.657162 -79.378937  \n",
       "2                     0.12      M5L  Downtown Toronto  43.648198 -79.379817  "
      ]
     },
     "execution_count": 92,
     "metadata": {},
     "output_type": "execute_result"
    }
   ],
   "source": [
    "# Merge the list of potential neighbourhoods with the dataframe of coordinates\n",
    "potential_coffee_sites_coords=potential_coffee_sites.merge(neighborhoods_coord_df, how='left')\n",
    "potential_coffee_sites_coords.head(3)"
   ]
  },
  {
   "cell_type": "code",
   "execution_count": 91,
   "metadata": {},
   "outputs": [
    {
     "data": {
      "text/html": [
       "<div style=\"width:100%;\"><div style=\"position:relative;width:100%;height:0;padding-bottom:60%;\"><iframe src=\"data:text/html;charset=utf-8;base64,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\" style=\"position:absolute;width:100%;height:100%;left:0;top:0;border:none !important;\" allowfullscreen webkitallowfullscreen mozallowfullscreen></iframe></div></div>"
      ],
      "text/plain": [
       "<folium.folium.Map at 0x22fe6ac3940>"
      ]
     },
     "execution_count": 91,
     "metadata": {},
     "output_type": "execute_result"
    }
   ],
   "source": [
    "map_toronto = folium.Map(location=[latitude, longitude], tiles='Stamen Toner', zoom_start=11)\n",
    "\n",
    "# add markers to map\n",
    "for lat, lng, label in zip(potential_coffee_sites_coords['Latitude'], potential_coffee_sites_coords['Longitude'], potential_coffee_sites_coords['Neighbourhood']):\n",
    "    label = folium.Popup(label, parse_html=True)\n",
    "    folium.Marker(\n",
    "        [lat, lng],\n",
    "        radius=5,\n",
    "        popup=label,\n",
    "        color='blue',\n",
    "        fill=True,\n",
    "        fill_color='#3186cc',\n",
    "        fill_opacity=0.7,\n",
    "        parse_html=False,\n",
    "        icon=folium.Icon(color='red', icon='info-sign')).add_to(map_toronto)  \n",
    "\n",
    "map_toronto"
   ]
  },
  {
   "cell_type": "markdown",
   "metadata": {},
   "source": [
    "### Conclusion\n",
    "From the above analysis, we learn that:\n",
    "1.\tA number of neighbourhoods in Toronto have high business activity in terms of existing venues. The top ten neighbourhoods in terms of business concentration have more than 80 venues each.\n",
    "2.\tCoffee shop is a viable venue or business category in Toronto. In fact, it is the largest venue category comprising of 193 coffee shops with café venues with 93 locations at the second position.\n",
    "3.\tThe top ten popular business venues in Toronto comprises of coffee shops, fast food chains, drugstores, retail stores and bank branches. Coffee shops are at top of the list these venue categories.\n",
    "4.\tHighest number of coffee shops are located in Central Bay Street, First Canadia Place, Underground City, Harbourfront East, Toronto Islands, and Union Station.\n",
    "5.\tA list of potential neighbourhoods for opening a new coffee shop has been identified which have number of total venues in the neighbourhood must be 50 or more and the number of existing coffee shops be less than 20% of the total venues in that neighbourhood. \n"
   ]
  },
  {
   "cell_type": "markdown",
   "metadata": {},
   "source": [
    "## The end"
   ]
  }
 ],
 "metadata": {
  "kernelspec": {
   "display_name": "Python 3",
   "language": "python",
   "name": "python3"
  },
  "language_info": {
   "codemirror_mode": {
    "name": "ipython",
    "version": 3
   },
   "file_extension": ".py",
   "mimetype": "text/x-python",
   "name": "python",
   "nbconvert_exporter": "python",
   "pygments_lexer": "ipython3",
   "version": "3.6.9"
  }
 },
 "nbformat": 4,
 "nbformat_minor": 4
}
